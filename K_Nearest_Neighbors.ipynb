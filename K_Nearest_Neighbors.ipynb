{
  "nbformat": 4,
  "nbformat_minor": 0,
  "metadata": {
    "colab": {
      "name": "K-Nearest_Neighbors.ipynb",
      "provenance": [],
      "authorship_tag": "ABX9TyPdiNpiFaz+45lniRN5Vl8M",
      "include_colab_link": true
    },
    "kernelspec": {
      "name": "python3",
      "display_name": "Python 3"
    },
    "language_info": {
      "name": "python"
    }
  },
  "cells": [
    {
      "cell_type": "markdown",
      "metadata": {
        "id": "view-in-github",
        "colab_type": "text"
      },
      "source": [
        "<a href=\"https://colab.research.google.com/github/AhmedCoolProjects/ML/blob/main/K_Nearest_Neighbors.ipynb\" target=\"_parent\"><img src=\"https://colab.research.google.com/assets/colab-badge.svg\" alt=\"Open In Colab\"/></a>"
      ]
    },
    {
      "cell_type": "markdown",
      "metadata": {
        "id": "rQT3bkIw_IyI"
      },
      "source": [
        "Classification: determines the class label for an unlabeled test case. email filtiring, speach recognition, docs classifcations,...\n",
        "* Decision Trees.\n",
        "* Naive Bayes.\n",
        "* Linear Disciminant Analysis.\n",
        "* K-Nearest Neighbor.\n",
        "* Logistic Regression.\n",
        "* Neural Networks.\n",
        "* Support Vector Machines.\n",
        "> K-Nearest Neighbor: Similar cases with same class labels are near each other.\n"
      ]
    },
    {
      "cell_type": "markdown",
      "metadata": {
        "id": "gDua33bXEzAs"
      },
      "source": [
        "Evaluation Metrics for classification:\n",
        "* Jaccard index: |y inter **y**| / |y union **y**|, |y union **y**| = |y|+|**y**|-|y inter **y**|\n",
        "* F1-score: confusion metrix, precision = TP/(TP+FP), recall = TP/(TP+FN). f1-score = 2(prc*rec)/(prc+rec).\n",
        "f1-score => 1.0 means higher accuracy. avg accuracy is the avg of the all f1-scores for all classes.\n",
        "* Log Loss: => 0.0 means higher accuracy.\n",
        "> logloss = -(1/n).Sigma(y.log(**y**) + (1-y).log(1-**y**))"
      ]
    },
    {
      "cell_type": "markdown",
      "metadata": {
        "id": "-YMiq7-RHYhe"
      },
      "source": [
        ""
      ]
    },
    {
      "cell_type": "markdown",
      "metadata": {
        "id": "TNX3N9m1__yL"
      },
      "source": [
        "# K-Nearest Neighbors\n",
        "## categorizing telecommunications provider custemers."
      ]
    },
    {
      "cell_type": "code",
      "metadata": {
        "id": "L1rtYRRU-l7P"
      },
      "source": [
        "# downloading the dataset.\n",
        "!wget -O teleCust1000t.csv https://cf-courses-data.s3.us.cloud-object-storage.appdomain.cloud/IBMDeveloperSkillsNetwork-ML0101EN-Coursera/labs/Data_files/teleCust1000t.csv"
      ],
      "execution_count": null,
      "outputs": []
    },
    {
      "cell_type": "code",
      "metadata": {
        "id": "DSkRlGoHMjrQ"
      },
      "source": [
        "import itertools\n",
        "import numpy as np\n",
        "import matplotlib.pyplot as plt\n",
        "from matplotlib.ticker import NullFormatter\n",
        "import pandas as pd\n",
        "import numpy as np\n",
        "import matplotlib.ticker as ticker\n",
        "from sklearn import preprocessing\n",
        "%matplotlib inline"
      ],
      "execution_count": 2,
      "outputs": []
    },
    {
      "cell_type": "code",
      "metadata": {
        "colab": {
          "base_uri": "https://localhost:8080/",
          "height": 204
        },
        "id": "jP3QKZEyNHaK",
        "outputId": "a68b636a-9d3f-4aa4-def0-a0b16f400b27"
      },
      "source": [
        "df = pd.read_csv('/content/teleCust1000t.csv')\n",
        "df.head()"
      ],
      "execution_count": 3,
      "outputs": [
        {
          "output_type": "execute_result",
          "data": {
            "text/html": [
              "<div>\n",
              "<style scoped>\n",
              "    .dataframe tbody tr th:only-of-type {\n",
              "        vertical-align: middle;\n",
              "    }\n",
              "\n",
              "    .dataframe tbody tr th {\n",
              "        vertical-align: top;\n",
              "    }\n",
              "\n",
              "    .dataframe thead th {\n",
              "        text-align: right;\n",
              "    }\n",
              "</style>\n",
              "<table border=\"1\" class=\"dataframe\">\n",
              "  <thead>\n",
              "    <tr style=\"text-align: right;\">\n",
              "      <th></th>\n",
              "      <th>region</th>\n",
              "      <th>tenure</th>\n",
              "      <th>age</th>\n",
              "      <th>marital</th>\n",
              "      <th>address</th>\n",
              "      <th>income</th>\n",
              "      <th>ed</th>\n",
              "      <th>employ</th>\n",
              "      <th>retire</th>\n",
              "      <th>gender</th>\n",
              "      <th>reside</th>\n",
              "      <th>custcat</th>\n",
              "    </tr>\n",
              "  </thead>\n",
              "  <tbody>\n",
              "    <tr>\n",
              "      <th>0</th>\n",
              "      <td>2</td>\n",
              "      <td>13</td>\n",
              "      <td>44</td>\n",
              "      <td>1</td>\n",
              "      <td>9</td>\n",
              "      <td>64.0</td>\n",
              "      <td>4</td>\n",
              "      <td>5</td>\n",
              "      <td>0.0</td>\n",
              "      <td>0</td>\n",
              "      <td>2</td>\n",
              "      <td>1</td>\n",
              "    </tr>\n",
              "    <tr>\n",
              "      <th>1</th>\n",
              "      <td>3</td>\n",
              "      <td>11</td>\n",
              "      <td>33</td>\n",
              "      <td>1</td>\n",
              "      <td>7</td>\n",
              "      <td>136.0</td>\n",
              "      <td>5</td>\n",
              "      <td>5</td>\n",
              "      <td>0.0</td>\n",
              "      <td>0</td>\n",
              "      <td>6</td>\n",
              "      <td>4</td>\n",
              "    </tr>\n",
              "    <tr>\n",
              "      <th>2</th>\n",
              "      <td>3</td>\n",
              "      <td>68</td>\n",
              "      <td>52</td>\n",
              "      <td>1</td>\n",
              "      <td>24</td>\n",
              "      <td>116.0</td>\n",
              "      <td>1</td>\n",
              "      <td>29</td>\n",
              "      <td>0.0</td>\n",
              "      <td>1</td>\n",
              "      <td>2</td>\n",
              "      <td>3</td>\n",
              "    </tr>\n",
              "    <tr>\n",
              "      <th>3</th>\n",
              "      <td>2</td>\n",
              "      <td>33</td>\n",
              "      <td>33</td>\n",
              "      <td>0</td>\n",
              "      <td>12</td>\n",
              "      <td>33.0</td>\n",
              "      <td>2</td>\n",
              "      <td>0</td>\n",
              "      <td>0.0</td>\n",
              "      <td>1</td>\n",
              "      <td>1</td>\n",
              "      <td>1</td>\n",
              "    </tr>\n",
              "    <tr>\n",
              "      <th>4</th>\n",
              "      <td>2</td>\n",
              "      <td>23</td>\n",
              "      <td>30</td>\n",
              "      <td>1</td>\n",
              "      <td>9</td>\n",
              "      <td>30.0</td>\n",
              "      <td>1</td>\n",
              "      <td>2</td>\n",
              "      <td>0.0</td>\n",
              "      <td>0</td>\n",
              "      <td>4</td>\n",
              "      <td>3</td>\n",
              "    </tr>\n",
              "  </tbody>\n",
              "</table>\n",
              "</div>"
            ],
            "text/plain": [
              "   region  tenure  age  marital  ...  retire  gender  reside  custcat\n",
              "0       2      13   44        1  ...     0.0       0       2        1\n",
              "1       3      11   33        1  ...     0.0       0       6        4\n",
              "2       3      68   52        1  ...     0.0       1       2        3\n",
              "3       2      33   33        0  ...     0.0       1       1        1\n",
              "4       2      23   30        1  ...     0.0       0       4        3\n",
              "\n",
              "[5 rows x 12 columns]"
            ]
          },
          "metadata": {
            "tags": []
          },
          "execution_count": 3
        }
      ]
    },
    {
      "cell_type": "code",
      "metadata": {
        "colab": {
          "base_uri": "https://localhost:8080/"
        },
        "id": "qF4FFYkeNNrL",
        "outputId": "dae77295-9c93-413e-f45a-b8b5bcea130d"
      },
      "source": [
        "df.info()"
      ],
      "execution_count": 4,
      "outputs": [
        {
          "output_type": "stream",
          "text": [
            "<class 'pandas.core.frame.DataFrame'>\n",
            "RangeIndex: 1000 entries, 0 to 999\n",
            "Data columns (total 12 columns):\n",
            " #   Column   Non-Null Count  Dtype  \n",
            "---  ------   --------------  -----  \n",
            " 0   region   1000 non-null   int64  \n",
            " 1   tenure   1000 non-null   int64  \n",
            " 2   age      1000 non-null   int64  \n",
            " 3   marital  1000 non-null   int64  \n",
            " 4   address  1000 non-null   int64  \n",
            " 5   income   1000 non-null   float64\n",
            " 6   ed       1000 non-null   int64  \n",
            " 7   employ   1000 non-null   int64  \n",
            " 8   retire   1000 non-null   float64\n",
            " 9   gender   1000 non-null   int64  \n",
            " 10  reside   1000 non-null   int64  \n",
            " 11  custcat  1000 non-null   int64  \n",
            "dtypes: float64(2), int64(10)\n",
            "memory usage: 93.9 KB\n"
          ],
          "name": "stdout"
        }
      ]
    },
    {
      "cell_type": "code",
      "metadata": {
        "colab": {
          "base_uri": "https://localhost:8080/"
        },
        "id": "wavGcvRWNTmh",
        "outputId": "c0b3be8b-2f94-4afb-f917-03ae54c8ebeb"
      },
      "source": [
        "df['custcat'].value_counts()"
      ],
      "execution_count": 6,
      "outputs": [
        {
          "output_type": "execute_result",
          "data": {
            "text/plain": [
              "3    281\n",
              "1    266\n",
              "4    236\n",
              "2    217\n",
              "Name: custcat, dtype: int64"
            ]
          },
          "metadata": {
            "tags": []
          },
          "execution_count": 6
        }
      ]
    },
    {
      "cell_type": "code",
      "metadata": {
        "colab": {
          "base_uri": "https://localhost:8080/",
          "height": 281
        },
        "id": "umVCG_a8Ne_e",
        "outputId": "e7d605e1-b290-4b32-f935-b0cc3e5b7334"
      },
      "source": [
        "df.hist(column='income',bins=50)\n",
        "plt.show()"
      ],
      "execution_count": 8,
      "outputs": [
        {
          "output_type": "display_data",
          "data": {
            "image/png": "[encoded data removed]",
            "text/plain": [
              "<Figure size 432x288 with 1 Axes>"
            ]
          },
          "metadata": {
            "tags": [],
            "needs_background": "light"
          }
        }
      ]
    },
    {
      "cell_type": "code",
      "metadata": {
        "id": "rnCANuStOILx"
      },
      "source": [
        "X = df.drop('custcat',axis=1).values # this is a numpy array"
      ],
      "execution_count": 9,
      "outputs": []
    },
    {
      "cell_type": "code",
      "metadata": {
        "id": "0KkEKAZ_PpVb"
      },
      "source": [
        "Y = df[['custcat']].values"
      ],
      "execution_count": 12,
      "outputs": []
    },
    {
      "cell_type": "code",
      "metadata": {
        "colab": {
          "base_uri": "https://localhost:8080/"
        },
        "id": "nw54TKDGPrMA",
        "outputId": "3b49dec8-3cf1-4378-e779-b10be91528b2"
      },
      "source": [
        "Y[:5]"
      ],
      "execution_count": 13,
      "outputs": [
        {
          "output_type": "execute_result",
          "data": {
            "text/plain": [
              "array([[1],\n",
              "       [4],\n",
              "       [3],\n",
              "       [1],\n",
              "       [3]])"
            ]
          },
          "metadata": {
            "tags": []
          },
          "execution_count": 13
        }
      ]
    },
    {
      "cell_type": "code",
      "metadata": {
        "colab": {
          "base_uri": "https://localhost:8080/"
        },
        "id": "eWq51yu3PyM2",
        "outputId": "b16b3041-c78d-456c-ce9f-99ffa53e9134"
      },
      "source": [
        "X[:5]"
      ],
      "execution_count": 14,
      "outputs": [
        {
          "output_type": "execute_result",
          "data": {
            "text/plain": [
              "array([[  2.,  13.,  44.,   1.,   9.,  64.,   4.,   5.,   0.,   0.,   2.],\n",
              "       [  3.,  11.,  33.,   1.,   7., 136.,   5.,   5.,   0.,   0.,   6.],\n",
              "       [  3.,  68.,  52.,   1.,  24., 116.,   1.,  29.,   0.,   1.,   2.],\n",
              "       [  2.,  33.,  33.,   0.,  12.,  33.,   2.,   0.,   0.,   1.,   1.],\n",
              "       [  2.,  23.,  30.,   1.,   9.,  30.,   1.,   2.,   0.,   0.,   4.]])"
            ]
          },
          "metadata": {
            "tags": []
          },
          "execution_count": 14
        }
      ]
    },
    {
      "cell_type": "code",
      "metadata": {
        "colab": {
          "base_uri": "https://localhost:8080/"
        },
        "id": "Wn1Q2qNDQGsM",
        "outputId": "8f22c90e-5d95-4ca2-95af-56574f3aef76"
      },
      "source": [
        "# standardization our X data\n",
        "X = preprocessing.StandardScaler().fit(X).transform(X.astype(float))\n",
        "X[:5]"
      ],
      "execution_count": 15,
      "outputs": [
        {
          "output_type": "execute_result",
          "data": {
            "text/plain": [
              "array([[-0.02696767, -1.055125  ,  0.18450456,  1.0100505 , -0.25303431,\n",
              "        -0.12650641,  1.0877526 , -0.5941226 , -0.22207644, -1.03459817,\n",
              "        -0.23065004],\n",
              "       [ 1.19883553, -1.14880563, -0.69181243,  1.0100505 , -0.4514148 ,\n",
              "         0.54644972,  1.9062271 , -0.5941226 , -0.22207644, -1.03459817,\n",
              "         2.55666158],\n",
              "       [ 1.19883553,  1.52109247,  0.82182601,  1.0100505 ,  1.23481934,\n",
              "         0.35951747, -1.36767088,  1.78752803, -0.22207644,  0.96655883,\n",
              "        -0.23065004],\n",
              "       [-0.02696767, -0.11831864, -0.69181243, -0.9900495 ,  0.04453642,\n",
              "        -0.41625141, -0.54919639, -1.09029981, -0.22207644,  0.96655883,\n",
              "        -0.92747794],\n",
              "       [-0.02696767, -0.58672182, -0.93080797,  1.0100505 , -0.25303431,\n",
              "        -0.44429125, -1.36767088, -0.89182893, -0.22207644, -1.03459817,\n",
              "         1.16300577]])"
            ]
          },
          "metadata": {
            "tags": []
          },
          "execution_count": 15
        }
      ]
    },
    {
      "cell_type": "code",
      "metadata": {
        "colab": {
          "base_uri": "https://localhost:8080/"
        },
        "id": "eyLyzyVrQXMY",
        "outputId": "fd88aeea-5fd4-4715-bce1-c049174dea7d"
      },
      "source": [
        "# train test split\n",
        "from sklearn.model_selection import train_test_split\n",
        "X_train, X_test, Y_train, Y_test = train_test_split(X,Y,test_size=0.2,random_state=4)\n",
        "print(X_train.shape,Y_train.shape)\n",
        "print(X_test.shape,Y_test.shape)"
      ],
      "execution_count": 19,
      "outputs": [
        {
          "output_type": "stream",
          "text": [
            "(800, 11) (800, 1)\n",
            "(200, 11) (200, 1)\n"
          ],
          "name": "stdout"
        }
      ]
    },
    {
      "cell_type": "code",
      "metadata": {
        "colab": {
          "base_uri": "https://localhost:8080/"
        },
        "id": "3NohNsYMQn-3",
        "outputId": "9d120baa-1bf8-4050-d0f1-e782f1ebf0ed"
      },
      "source": [
        "# building the model\n",
        "from sklearn.neighbors import KNeighborsClassifier\n",
        "k = 4\n",
        "neigh = KNeighborsClassifier(n_neighbors=k).fit(X_train,Y_train)"
      ],
      "execution_count": 22,
      "outputs": [
        {
          "output_type": "stream",
          "text": [
            "/usr/local/lib/python3.7/dist-packages/ipykernel_launcher.py:4: DataConversionWarning: A column-vector y was passed when a 1d array was expected. Please change the shape of y to (n_samples, ), for example using ravel().\n",
            "  after removing the cwd from sys.path.\n"
          ],
          "name": "stderr"
        }
      ]
    },
    {
      "cell_type": "code",
      "metadata": {
        "colab": {
          "base_uri": "https://localhost:8080/"
        },
        "id": "Icy0FVfcSDSX",
        "outputId": "21017955-c6f0-42e9-a6d1-b33697437f4e"
      },
      "source": [
        "# predicting test dataset\n",
        "Y_test_pre = neigh.predict(X_test)\n",
        "Y_test_pre[:5]"
      ],
      "execution_count": 23,
      "outputs": [
        {
          "output_type": "execute_result",
          "data": {
            "text/plain": [
              "array([1, 1, 3, 2, 4])"
            ]
          },
          "metadata": {
            "tags": []
          },
          "execution_count": 23
        }
      ]
    },
    {
      "cell_type": "code",
      "metadata": {
        "colab": {
          "base_uri": "https://localhost:8080/"
        },
        "id": "LP-wO0ZISkDi",
        "outputId": "c059ea60-6d56-40ec-a051-6e53e139f76b"
      },
      "source": [
        "# accuracy evaluation\n",
        "from sklearn.metrics import accuracy_score\n",
        "print('Train set accuracy : ', accuracy_score(Y_train,neigh.predict(X_train)))\n",
        "print('Test set accuracy : ',accuracy_score(Y_test,neigh.predict(X_test)))"
      ],
      "execution_count": 25,
      "outputs": [
        {
          "output_type": "stream",
          "text": [
            "Train set accuracy :  0.5475\n",
            "Test set accuracy :  0.32\n"
          ],
          "name": "stdout"
        }
      ]
    },
    {
      "cell_type": "code",
      "metadata": {
        "colab": {
          "base_uri": "https://localhost:8080/"
        },
        "id": "LgjOlQ8YSoMg",
        "outputId": "db3e294b-aa7e-4b02-c11c-103cf8af314f"
      },
      "source": [
        "# lets try with k = 6\n",
        "# building the model\n",
        "k = 6\n",
        "neigh = KNeighborsClassifier(n_neighbors=k).fit(X_train,Y_train)"
      ],
      "execution_count": 26,
      "outputs": [
        {
          "output_type": "stream",
          "text": [
            "/usr/local/lib/python3.7/dist-packages/ipykernel_launcher.py:4: DataConversionWarning: A column-vector y was passed when a 1d array was expected. Please change the shape of y to (n_samples, ), for example using ravel().\n",
            "  after removing the cwd from sys.path.\n"
          ],
          "name": "stderr"
        }
      ]
    },
    {
      "cell_type": "code",
      "metadata": {
        "colab": {
          "base_uri": "https://localhost:8080/"
        },
        "id": "5mTt-RqhTxVd",
        "outputId": "203c824a-569f-462b-c2c8-ca087057b86e"
      },
      "source": [
        "# evaluation\n",
        "print('train set accuracy ',accuracy_score(Y_train,neigh.predict(X_train)))\n",
        "print('test set accuracy ',accuracy_score(Y_test,neigh.predict(X_test)))"
      ],
      "execution_count": 27,
      "outputs": [
        {
          "output_type": "stream",
          "text": [
            "train set accuracy  0.51625\n",
            "test set accuracy  0.31\n"
          ],
          "name": "stdout"
        }
      ]
    },
    {
      "cell_type": "markdown",
      "metadata": {
        "id": "HxhlNkNEUxbV"
      },
      "source": [
        "for k=4 and k=6, we got accuracy of 0.32,0.31 which still not good.\n",
        "\n",
        "lets determine the best k for our dataset."
      ]
    },
    {
      "cell_type": "code",
      "metadata": {
        "colab": {
          "base_uri": "https://localhost:8080/"
        },
        "id": "xpj0nHHvdLxR",
        "outputId": "a0a6de24-2e14-4d41-cdb9-149467aa9b97"
      },
      "source": [
        "ks=10\n",
        "mean_acc = np.zeros((ks-1))\n",
        "len(mean_acc)"
      ],
      "execution_count": 33,
      "outputs": [
        {
          "output_type": "execute_result",
          "data": {
            "text/plain": [
              "9"
            ]
          },
          "metadata": {
            "tags": []
          },
          "execution_count": 33
        }
      ]
    },
    {
      "cell_type": "code",
      "metadata": {
        "id": "nsrJugHfUFUU"
      },
      "source": [
        "for i in range(1,ks):\n",
        "  neigh = KNeighborsClassifier(n_neighbors=i).fit(X_train,Y_train)\n",
        "  mean_acc[i - 1] = accuracy_score(Y_test,neigh.predict(X_test))\n",
        "mean_acc"
      ],
      "execution_count": null,
      "outputs": []
    },
    {
      "cell_type": "code",
      "metadata": {
        "colab": {
          "base_uri": "https://localhost:8080/",
          "height": 350
        },
        "id": "qnppEoBCWFJX",
        "outputId": "d885a3e0-568a-4e11-a994-63e4bf550bd8"
      },
      "source": [
        "plt.figure(figsize=(8,5))\n",
        "plt.title('Accuracy by K values')\n",
        "plt.plot(range(1,ks),mean_acc,'g')\n",
        "plt.xlabel('Ks')\n",
        "plt.ylabel('Test Accuracy')\n",
        "plt.show()"
      ],
      "execution_count": 37,
      "outputs": [
        {
          "output_type": "display_data",
          "data": {
            "image/png": "[encoded data removed]",
            "text/plain": [
              "<Figure size 576x360 with 1 Axes>"
            ]
          },
          "metadata": {
            "tags": [],
            "needs_background": "light"
          }
        }
      ]
    },
    {
      "cell_type": "markdown",
      "metadata": {
        "id": "_o4HwRD6eWXQ"
      },
      "source": [
        "then: the best accuracy is for K=9, acc = 0.34"
      ]
    },
    {
      "cell_type": "code",
      "metadata": {
        "id": "-g1RDkJ-eGTq"
      },
      "source": [
        ""
      ],
      "execution_count": null,
      "outputs": []
    }
  ]
}