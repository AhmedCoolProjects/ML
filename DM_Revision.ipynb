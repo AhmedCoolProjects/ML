{
  "nbformat": 4,
  "nbformat_minor": 0,
  "metadata": {
    "colab": {
      "provenance": [],
      "collapsed_sections": [
        "TLgS-_K5_CZX",
        "YyMRwZZmb7hJ",
        "z-jPSQX1b9TV",
        "oWGcqtjRW4MW",
        "DscbdHqswO9e",
        "b1z_wh830Q3h",
        "ARmjQzJ-AIyd",
        "PX4n4eg7D90_",
        "eoQxvycHGvXT",
        "nMgL4hzYIWDR",
        "Fnx3sQ9eK-B0",
        "IiHuSY13LzYF"
      ],
      "authorship_tag": "ABX9TyNVaDbLSMV4K4XCYUeVucmo",
      "include_colab_link": true
    },
    "kernelspec": {
      "name": "python3",
      "display_name": "Python 3"
    },
    "language_info": {
      "name": "python"
    }
  },
  "cells": [
    {
      "cell_type": "markdown",
      "metadata": {
        "id": "view-in-github",
        "colab_type": "text"
      },
      "source": [
        "<a href=\"https://colab.research.google.com/github/AhmedCoolProjects/ML/blob/main/DM_Revision.ipynb\" target=\"_parent\"><img src=\"https://colab.research.google.com/assets/colab-badge.svg\" alt=\"Open In Colab\"/></a>"
      ]
    },
    {
      "cell_type": "markdown",
      "source": [
        "# Data"
      ],
      "metadata": {
        "id": "TLgS-_K5_CZX"
      }
    },
    {
      "cell_type": "code",
      "source": [
        "# dataset\n",
        "import pandas as pd\n",
        "data = pd.read_csv(\"/content/iris_csv.csv\")"
      ],
      "metadata": {
        "id": "Cz_4ePKY-wTC"
      },
      "execution_count": 1,
      "outputs": []
    },
    {
      "cell_type": "code",
      "source": [
        "data.head()"
      ],
      "metadata": {
        "colab": {
          "base_uri": "https://localhost:8080/",
          "height": 206
        },
        "id": "ne9RKeKE-45b",
        "outputId": "8d6efeb2-2860-4596-e0fa-8a3610810445"
      },
      "execution_count": 2,
      "outputs": [
        {
          "output_type": "execute_result",
          "data": {
            "text/plain": [
              "   sepallength  sepalwidth  petallength  petalwidth        class\n",
              "0          5.1         3.5          1.4         0.2  Iris-setosa\n",
              "1          4.9         3.0          1.4         0.2  Iris-setosa\n",
              "2          4.7         3.2          1.3         0.2  Iris-setosa\n",
              "3          4.6         3.1          1.5         0.2  Iris-setosa\n",
              "4          5.0         3.6          1.4         0.2  Iris-setosa"
            ],
            "text/html": [
              "\n",
              "  <div id=\"df-ce772ad9-43f1-4a33-8a2d-1b5ccd6d899b\">\n",
              "    <div class=\"colab-df-container\">\n",
              "      <div>\n",
              "<style scoped>\n",
              "    .dataframe tbody tr th:only-of-type {\n",
              "        vertical-align: middle;\n",
              "    }\n",
              "\n",
              "    .dataframe tbody tr th {\n",
              "        vertical-align: top;\n",
              "    }\n",
              "\n",
              "    .dataframe thead th {\n",
              "        text-align: right;\n",
              "    }\n",
              "</style>\n",
              "<table border=\"1\" class=\"dataframe\">\n",
              "  <thead>\n",
              "    <tr style=\"text-align: right;\">\n",
              "      <th></th>\n",
              "      <th>sepallength</th>\n",
              "      <th>sepalwidth</th>\n",
              "      <th>petallength</th>\n",
              "      <th>petalwidth</th>\n",
              "      <th>class</th>\n",
              "    </tr>\n",
              "  </thead>\n",
              "  <tbody>\n",
              "    <tr>\n",
              "      <th>0</th>\n",
              "      <td>5.1</td>\n",
              "      <td>3.5</td>\n",
              "      <td>1.4</td>\n",
              "      <td>0.2</td>\n",
              "      <td>Iris-setosa</td>\n",
              "    </tr>\n",
              "    <tr>\n",
              "      <th>1</th>\n",
              "      <td>4.9</td>\n",
              "      <td>3.0</td>\n",
              "      <td>1.4</td>\n",
              "      <td>0.2</td>\n",
              "      <td>Iris-setosa</td>\n",
              "    </tr>\n",
              "    <tr>\n",
              "      <th>2</th>\n",
              "      <td>4.7</td>\n",
              "      <td>3.2</td>\n",
              "      <td>1.3</td>\n",
              "      <td>0.2</td>\n",
              "      <td>Iris-setosa</td>\n",
              "    </tr>\n",
              "    <tr>\n",
              "      <th>3</th>\n",
              "      <td>4.6</td>\n",
              "      <td>3.1</td>\n",
              "      <td>1.5</td>\n",
              "      <td>0.2</td>\n",
              "      <td>Iris-setosa</td>\n",
              "    </tr>\n",
              "    <tr>\n",
              "      <th>4</th>\n",
              "      <td>5.0</td>\n",
              "      <td>3.6</td>\n",
              "      <td>1.4</td>\n",
              "      <td>0.2</td>\n",
              "      <td>Iris-setosa</td>\n",
              "    </tr>\n",
              "  </tbody>\n",
              "</table>\n",
              "</div>\n",
              "      <button class=\"colab-df-convert\" onclick=\"convertToInteractive('df-ce772ad9-43f1-4a33-8a2d-1b5ccd6d899b')\"\n",
              "              title=\"Convert this dataframe to an interactive table.\"\n",
              "              style=\"display:none;\">\n",
              "        \n",
              "  <svg xmlns=\"http://www.w3.org/2000/svg\" height=\"24px\"viewBox=\"0 0 24 24\"\n",
              "       width=\"24px\">\n",
              "    <path d=\"M0 0h24v24H0V0z\" fill=\"none\"/>\n",
              "    <path d=\"M18.56 5.44l.94 2.06.94-2.06 2.06-.94-2.06-.94-.94-2.06-.94 2.06-2.06.94zm-11 1L8.5 8.5l.94-2.06 2.06-.94-2.06-.94L8.5 2.5l-.94 2.06-2.06.94zm10 10l.94 2.06.94-2.06 2.06-.94-2.06-.94-.94-2.06-.94 2.06-2.06.94z\"/><path d=\"M17.41 7.96l-1.37-1.37c-.4-.4-.92-.59-1.43-.59-.52 0-1.04.2-1.43.59L10.3 9.45l-7.72 7.72c-.78.78-.78 2.05 0 2.83L4 21.41c.39.39.9.59 1.41.59.51 0 1.02-.2 1.41-.59l7.78-7.78 2.81-2.81c.8-.78.8-2.07 0-2.86zM5.41 20L4 18.59l7.72-7.72 1.47 1.35L5.41 20z\"/>\n",
              "  </svg>\n",
              "      </button>\n",
              "      \n",
              "  <style>\n",
              "    .colab-df-container {\n",
              "      display:flex;\n",
              "      flex-wrap:wrap;\n",
              "      gap: 12px;\n",
              "    }\n",
              "\n",
              "    .colab-df-convert {\n",
              "      background-color: #E8F0FE;\n",
              "      border: none;\n",
              "      border-radius: 50%;\n",
              "      cursor: pointer;\n",
              "      display: none;\n",
              "      fill: #1967D2;\n",
              "      height: 32px;\n",
              "      padding: 0 0 0 0;\n",
              "      width: 32px;\n",
              "    }\n",
              "\n",
              "    .colab-df-convert:hover {\n",
              "      background-color: #E2EBFA;\n",
              "      box-shadow: 0px 1px 2px rgba(60, 64, 67, 0.3), 0px 1px 3px 1px rgba(60, 64, 67, 0.15);\n",
              "      fill: #174EA6;\n",
              "    }\n",
              "\n",
              "    [theme=dark] .colab-df-convert {\n",
              "      background-color: #3B4455;\n",
              "      fill: #D2E3FC;\n",
              "    }\n",
              "\n",
              "    [theme=dark] .colab-df-convert:hover {\n",
              "      background-color: #434B5C;\n",
              "      box-shadow: 0px 1px 3px 1px rgba(0, 0, 0, 0.15);\n",
              "      filter: drop-shadow(0px 1px 2px rgba(0, 0, 0, 0.3));\n",
              "      fill: #FFFFFF;\n",
              "    }\n",
              "  </style>\n",
              "\n",
              "      <script>\n",
              "        const buttonEl =\n",
              "          document.querySelector('#df-ce772ad9-43f1-4a33-8a2d-1b5ccd6d899b button.colab-df-convert');\n",
              "        buttonEl.style.display =\n",
              "          google.colab.kernel.accessAllowed ? 'block' : 'none';\n",
              "\n",
              "        async function convertToInteractive(key) {\n",
              "          const element = document.querySelector('#df-ce772ad9-43f1-4a33-8a2d-1b5ccd6d899b');\n",
              "          const dataTable =\n",
              "            await google.colab.kernel.invokeFunction('convertToInteractive',\n",
              "                                                     [key], {});\n",
              "          if (!dataTable) return;\n",
              "\n",
              "          const docLinkHtml = 'Like what you see? Visit the ' +\n",
              "            '<a target=\"_blank\" href=https://colab.research.google.com/notebooks/data_table.ipynb>data table notebook</a>'\n",
              "            + ' to learn more about interactive tables.';\n",
              "          element.innerHTML = '';\n",
              "          dataTable['output_type'] = 'display_data';\n",
              "          await google.colab.output.renderOutput(dataTable, element);\n",
              "          const docLink = document.createElement('div');\n",
              "          docLink.innerHTML = docLinkHtml;\n",
              "          element.appendChild(docLink);\n",
              "        }\n",
              "      </script>\n",
              "    </div>\n",
              "  </div>\n",
              "  "
            ]
          },
          "metadata": {},
          "execution_count": 2
        }
      ]
    },
    {
      "cell_type": "code",
      "source": [
        "data.shape"
      ],
      "metadata": {
        "colab": {
          "base_uri": "https://localhost:8080/"
        },
        "id": "R-YphRH5-5xn",
        "outputId": "b738c170-82fe-42cd-b386-19d93f92f5a1"
      },
      "execution_count": 3,
      "outputs": [
        {
          "output_type": "execute_result",
          "data": {
            "text/plain": [
              "(150, 5)"
            ]
          },
          "metadata": {},
          "execution_count": 3
        }
      ]
    },
    {
      "cell_type": "code",
      "source": [
        "from sklearn.model_selection import train_test_split\n",
        "X_train, X_test, y_train, y_test = train_test_split(data.drop(['class'], axis=1), data[\"class\"])"
      ],
      "metadata": {
        "id": "-a7kD6HqXieM"
      },
      "execution_count": 4,
      "outputs": []
    },
    {
      "cell_type": "code",
      "source": [
        "X_train.shape, X_test.shape, y_train.shape, y_test.shape"
      ],
      "metadata": {
        "colab": {
          "base_uri": "https://localhost:8080/"
        },
        "id": "qt8IZk9MYLW5",
        "outputId": "e729b9f0-671b-4ead-8466-8c1824c8dd2f"
      },
      "execution_count": 5,
      "outputs": [
        {
          "output_type": "execute_result",
          "data": {
            "text/plain": [
              "((112, 4), (38, 4), (112,), (38,))"
            ]
          },
          "metadata": {},
          "execution_count": 5
        }
      ]
    },
    {
      "cell_type": "code",
      "source": [
        "from sklearn import datasets\n",
        "diabetes_X, diabetes_y = datasets.load_diabetes(return_X_y=True)\n",
        "diabetes_X_train = diabetes_X[:-20]\n",
        "diabetes_X_test  = diabetes_X[-20:]\n",
        "diabetes_y_train = diabetes_y[:-20]\n",
        "diabetes_y_test  = diabetes_y[-20:]"
      ],
      "metadata": {
        "id": "q85duOx5Cszv"
      },
      "execution_count": 6,
      "outputs": []
    },
    {
      "cell_type": "markdown",
      "source": [
        "# Start Revision"
      ],
      "metadata": {
        "id": "wI39Yz2A-9oH"
      }
    },
    {
      "cell_type": "markdown",
      "source": [
        "- transductive: une seule etape\n",
        "- inductive:\n",
        "  \n",
        "  - apprentissage: construction du modèle\n",
        "  - test: vérification du modèle\n",
        "  - validation du modèle\n",
        "  - application du modèle"
      ],
      "metadata": {
        "id": "CqWI-ZkOUQgY"
      }
    },
    {
      "cell_type": "markdown",
      "source": [
        "## Classification"
      ],
      "metadata": {
        "id": "6eBXVTGmUtiS"
      }
    },
    {
      "cell_type": "markdown",
      "source": [
        "- KNN\n",
        "- Decision Trees\n",
        "- SVM\n",
        "- Naive Bayes\n",
        "- Logistic Regression"
      ],
      "metadata": {
        "id": "_L5zf4lsU1Qi"
      }
    },
    {
      "cell_type": "markdown",
      "source": [
        "### KNN"
      ],
      "metadata": {
        "id": "YyMRwZZmb7hJ"
      }
    },
    {
      "cell_type": "code",
      "source": [
        "'''\n",
        "1. Distance entre le nouveau element et les elements d'apprentissage (Euclidienne - Quantitatives / Manhattan - Plusieurs Types)\n",
        "2. Les k voisins proches\n",
        "3. La classes majoritaire des voisins sera la classe de l'element\n",
        "- Amélioration: Pondération et contribution des distances\n",
        "- Cons: garder l'ensemble de jeu en mémoire / choix de k et méthodes de calcule de distance exige d'essayer plusieurs combinaisons\n",
        "'''\n",
        "from sklearn import neighbors\n",
        "clf_knn = neighbors.KNeighborsClassifier(5)\n",
        "clf_knn.fit(X_train, y_train)\n",
        "y_pred = clf_knn.predict(X_test)\n",
        "\n",
        "from sklearn.metrics import accuracy_score, precision_score, recall_score, f1_score, classification_report\n",
        "print('accuracy_score \\n', accuracy_score(y_test, y_pred))\n",
        "print('precision_score \\n', precision_score(y_test, y_pred, average=None))\n",
        "print('recall_score \\n', recall_score(y_test, y_pred, average=None))\n",
        "print('f1_score \\n', f1_score(y_test, y_pred, average=None))\n",
        "print('classification_report \\n', classification_report(y_test, y_pred))\n",
        "\n"
      ],
      "metadata": {
        "id": "PWIT64Av-7uD",
        "colab": {
          "base_uri": "https://localhost:8080/"
        },
        "outputId": "9230f049-248e-4c38-9611-1cb3d854a6ed"
      },
      "execution_count": 7,
      "outputs": [
        {
          "output_type": "stream",
          "name": "stdout",
          "text": [
            "accuracy_score \n",
            " 1.0\n",
            "precision_score \n",
            " [1. 1. 1.]\n",
            "recall_score \n",
            " [1. 1. 1.]\n",
            "f1_score \n",
            " [1. 1. 1.]\n",
            "classification_report \n",
            "                  precision    recall  f1-score   support\n",
            "\n",
            "    Iris-setosa       1.00      1.00      1.00        14\n",
            "Iris-versicolor       1.00      1.00      1.00        10\n",
            " Iris-virginica       1.00      1.00      1.00        14\n",
            "\n",
            "       accuracy                           1.00        38\n",
            "      macro avg       1.00      1.00      1.00        38\n",
            "   weighted avg       1.00      1.00      1.00        38\n",
            "\n"
          ]
        }
      ]
    },
    {
      "cell_type": "markdown",
      "source": [
        "### Decision Tree"
      ],
      "metadata": {
        "id": "z-jPSQX1b9TV"
      }
    },
    {
      "cell_type": "code",
      "source": [
        "'''\n",
        "- classification / regression\n",
        "- données numériques / données catégorielles\n",
        "- arbre complexe -> explique mieux l'ensemble d'apprentissage -> peut avoir un overfitting\n",
        "- BUT: trouver le plus petite arbre explicant l'ensemble d'apprentissage\n",
        "- RACINE: l'attribut le plus important en haut\n",
        "- FIN: impossible de séparer les individus / un critère d'arret d'approfondissement soit satisfait\n",
        "  - X^2 (arbres CHAID, vars explicatives qualitatives)\n",
        "  - Gini (arbres CART, tout)\n",
        "  - Twoing (arbres CART, var cible > 3 modalités)\n",
        "  - Entrepie (arbres C4.5 C5.0)\n",
        "  - Atteint d'une limite de profondeur / limte des feuils / l'effictif tous les neouds min / qualité suffisante / qualité n'augment plus\n",
        "   d'une manière sensible\n",
        "- Selection des attributs (variantes):\n",
        "  - CHAID (CHi-Squared Automation Interaction Detection) -> khi2\n",
        "  - CART (Classification And Regression Tree) -> maximiser la pureté des neouds\n",
        "  - C5.0 (amélioration de ID3 et C4.5) -> maximiser le gain d'information réalisé\n",
        "- Avantages:\n",
        "  - simple à comprendre et à visualiser\n",
        "  - peu de préparation de données\n",
        "  - peu d'influence des données aberrantes, sauf aux frontières interclasses\n",
        "  - cout d'utilisation est logarithmique\n",
        "  - des problèmes multi-classes\n",
        "  - des données catégorielles et numériques\n",
        "  - durée de traitement\n",
        "- Inconvinients:\n",
        "  - la dépendence des niveaux\n",
        "  - variables testées séquentiellement et pas simultanément\n",
        "  - manque de robustesse\n",
        "'''\n",
        "from sklearn import tree\n",
        "clf_tree = tree.DecisionTreeClassifier()\n",
        "clf_tree.fit(X_train, y_train)\n",
        "y_pred = clf_tree.predict(X_test)\n",
        "print('accuracy_score \\n', accuracy_score(y_test, y_pred))\n",
        "print('precision_score \\n', precision_score(y_test, y_pred, average=None))\n",
        "print('recall_score \\n', recall_score(y_test, y_pred, average=None))\n",
        "print('f1_score \\n', f1_score(y_test, y_pred, average=None))\n",
        "print('classification_report \\n', classification_report(y_test, y_pred))\n"
      ],
      "metadata": {
        "colab": {
          "base_uri": "https://localhost:8080/"
        },
        "id": "Y_bBTMCtZuzf",
        "outputId": "db753780-8a26-4c8b-e96c-12b6349c56f1"
      },
      "execution_count": 8,
      "outputs": [
        {
          "output_type": "stream",
          "name": "stdout",
          "text": [
            "accuracy_score \n",
            " 0.9736842105263158\n",
            "precision_score \n",
            " [1.         1.         0.93333333]\n",
            "recall_score \n",
            " [1.  0.9 1. ]\n",
            "f1_score \n",
            " [1.         0.94736842 0.96551724]\n",
            "classification_report \n",
            "                  precision    recall  f1-score   support\n",
            "\n",
            "    Iris-setosa       1.00      1.00      1.00        14\n",
            "Iris-versicolor       1.00      0.90      0.95        10\n",
            " Iris-virginica       0.93      1.00      0.97        14\n",
            "\n",
            "       accuracy                           0.97        38\n",
            "      macro avg       0.98      0.97      0.97        38\n",
            "   weighted avg       0.98      0.97      0.97        38\n",
            "\n"
          ]
        }
      ]
    },
    {
      "cell_type": "code",
      "source": [
        "tree.plot_tree(clf_tree)"
      ],
      "metadata": {
        "colab": {
          "base_uri": "https://localhost:8080/",
          "height": 508
        },
        "id": "iBO1n7pSWRRG",
        "outputId": "240ef8f5-df62-4ffb-d733-066e4cc04ce1"
      },
      "execution_count": 9,
      "outputs": [
        {
          "output_type": "execute_result",
          "data": {
            "text/plain": [
              "[Text(0.4, 0.9166666666666666, 'X[2] <= 2.45\\ngini = 0.666\\nsamples = 112\\nvalue = [36, 40, 36]'),\n",
              " Text(0.3, 0.75, 'gini = 0.0\\nsamples = 36\\nvalue = [36, 0, 0]'),\n",
              " Text(0.5, 0.75, 'X[2] <= 4.95\\ngini = 0.499\\nsamples = 76\\nvalue = [0, 40, 36]'),\n",
              " Text(0.2, 0.5833333333333334, 'X[3] <= 1.65\\ngini = 0.133\\nsamples = 42\\nvalue = [0, 39, 3]'),\n",
              " Text(0.1, 0.4166666666666667, 'gini = 0.0\\nsamples = 38\\nvalue = [0, 38, 0]'),\n",
              " Text(0.3, 0.4166666666666667, 'X[1] <= 3.1\\ngini = 0.375\\nsamples = 4\\nvalue = [0, 1, 3]'),\n",
              " Text(0.2, 0.25, 'gini = 0.0\\nsamples = 3\\nvalue = [0, 0, 3]'),\n",
              " Text(0.4, 0.25, 'gini = 0.0\\nsamples = 1\\nvalue = [0, 1, 0]'),\n",
              " Text(0.8, 0.5833333333333334, 'X[0] <= 6.05\\ngini = 0.057\\nsamples = 34\\nvalue = [0, 1, 33]'),\n",
              " Text(0.7, 0.4166666666666667, 'X[3] <= 1.7\\ngini = 0.32\\nsamples = 5\\nvalue = [0, 1, 4]'),\n",
              " Text(0.6, 0.25, 'X[2] <= 5.05\\ngini = 0.5\\nsamples = 2\\nvalue = [0, 1, 1]'),\n",
              " Text(0.5, 0.08333333333333333, 'gini = 0.0\\nsamples = 1\\nvalue = [0, 0, 1]'),\n",
              " Text(0.7, 0.08333333333333333, 'gini = 0.0\\nsamples = 1\\nvalue = [0, 1, 0]'),\n",
              " Text(0.8, 0.25, 'gini = 0.0\\nsamples = 3\\nvalue = [0, 0, 3]'),\n",
              " Text(0.9, 0.4166666666666667, 'gini = 0.0\\nsamples = 29\\nvalue = [0, 0, 29]')]"
            ]
          },
          "metadata": {},
          "execution_count": 9
        },
        {
          "output_type": "display_data",
          "data": {
            "text/plain": [
              "<Figure size 432x288 with 1 Axes>"
            ],
            "image/png": "[encoded data removed]"
          },
          "metadata": {
            "needs_background": "light"
          }
        }
      ]
    },
    {
      "cell_type": "markdown",
      "source": [
        "### SVM"
      ],
      "metadata": {
        "id": "oWGcqtjRW4MW"
      }
    },
    {
      "cell_type": "code",
      "source": [
        "'''\n",
        "- frontière qui sépare le mieux les catégories (linièaires)\n",
        "- hyperplan qui maximise la marge (loin que possible des catégories)\n",
        "- les points les plus proches (vecteurs supports)\n",
        "- kernel trick -> les classes non linéairement séparables\n",
        "  - fonction noyeau pour la redescription: polynomial, gaussien, laplacien, rationnel\n",
        "- kernel (type de noyeau): poly, linear, rbf, sigmoid, precomputed\n",
        "- gamma (coefficient de noyeau): scale / auto\n",
        "- shrinking (utilisation de l'heuristique rétrécissante)\n",
        "'''\n",
        "from sklearn.svm import SVC\n",
        "\n",
        "svm_linear = SVC(kernel='linear', C=1.0).fit(X_train, y_train)\n",
        "svm_rbf = SVC(kernel='rbf', gamma=0.7, C=1.0).fit(X_train, y_train)\n",
        "svm_poly = SVC(kernel='poly', degree=3, C=1.0).fit(X_train, y_train)\n",
        "\n",
        "y_pred = svm_rbf.predict(X_test)\n",
        "print('accuracy_score \\n', accuracy_score(y_test, y_pred))\n",
        "print('precision_score \\n', precision_score(y_test, y_pred, average=None))\n",
        "print('recall_score \\n', recall_score(y_test, y_pred, average=None))\n",
        "print('f1_score \\n', f1_score(y_test, y_pred, average=None))\n",
        "print('classification_report \\n', classification_report(y_test, y_pred))\n"
      ],
      "metadata": {
        "colab": {
          "base_uri": "https://localhost:8080/"
        },
        "id": "F7kNwC2qWT7D",
        "outputId": "21e3b905-2444-4ee4-cb51-daafcfbfadf5"
      },
      "execution_count": 10,
      "outputs": [
        {
          "output_type": "stream",
          "name": "stdout",
          "text": [
            "accuracy_score \n",
            " 1.0\n",
            "precision_score \n",
            " [1. 1. 1.]\n",
            "recall_score \n",
            " [1. 1. 1.]\n",
            "f1_score \n",
            " [1. 1. 1.]\n",
            "classification_report \n",
            "                  precision    recall  f1-score   support\n",
            "\n",
            "    Iris-setosa       1.00      1.00      1.00        14\n",
            "Iris-versicolor       1.00      1.00      1.00        10\n",
            " Iris-virginica       1.00      1.00      1.00        14\n",
            "\n",
            "       accuracy                           1.00        38\n",
            "      macro avg       1.00      1.00      1.00        38\n",
            "   weighted avg       1.00      1.00      1.00        38\n",
            "\n"
          ]
        }
      ]
    },
    {
      "cell_type": "markdown",
      "source": [
        "### Naive Bayes"
      ],
      "metadata": {
        "id": "DscbdHqswO9e"
      }
    },
    {
      "cell_type": "code",
      "source": [
        "'''\n",
        "- théorème de Bayes (probabilité conditionnelle)\n",
        "- principe de l'existence d'une forte indépendance entre les variables du modèle\n",
        "- les variables sont simples -> terme naif\n",
        "- classe estimée = qui maximise la probabilité conditionnelle\n",
        "- parfaite pour la classification des textes\n",
        "- lois:\n",
        "  - caractéristiques discrètes: loi multinomial\n",
        "  - caractéristiques binaires: loi de Bernoulli\n",
        "  - caractéristiques continues: loi normale (gaussienne)\n",
        "- Avantages:\n",
        "  - très rapide pour la classification (calcule de probabilité)\n",
        "  - classification meme si avec un petit jeu de données\n",
        "- inconvénients:\n",
        "  - s'il y a une grande corrélation entre les caractéristiques -> mauvais résultats\n",
        "  - les caractéristiques continues doivent suivre la loi normale\n",
        "'''\n",
        "from sklearn.naive_bayes import GaussianNB\n",
        "clf_nb_gaussian = GaussianNB()\n",
        "y_pred = clf_nb_gaussian.fit(X=X_train, y=y_train).predict(X_test)\n",
        "\n",
        "print('accuracy_score \\n', accuracy_score(y_test, y_pred))\n",
        "print('precision_score \\n', precision_score(y_test, y_pred, average=None))\n",
        "print('recall_score \\n', recall_score(y_test, y_pred, average=None))\n",
        "print('f1_score \\n', f1_score(y_test, y_pred, average=None))\n",
        "print('classification_report \\n', classification_report(y_test, y_pred))"
      ],
      "metadata": {
        "colab": {
          "base_uri": "https://localhost:8080/"
        },
        "id": "hTQd6K1OvIX7",
        "outputId": "afb9eb2d-2b97-4d9f-a5bd-0452b88cb586"
      },
      "execution_count": 11,
      "outputs": [
        {
          "output_type": "stream",
          "name": "stdout",
          "text": [
            "accuracy_score \n",
            " 0.9473684210526315\n",
            "precision_score \n",
            " [1.    1.    0.875]\n",
            "recall_score \n",
            " [1.  0.8 1. ]\n",
            "f1_score \n",
            " [1.         0.88888889 0.93333333]\n",
            "classification_report \n",
            "                  precision    recall  f1-score   support\n",
            "\n",
            "    Iris-setosa       1.00      1.00      1.00        14\n",
            "Iris-versicolor       1.00      0.80      0.89        10\n",
            " Iris-virginica       0.88      1.00      0.93        14\n",
            "\n",
            "       accuracy                           0.95        38\n",
            "      macro avg       0.96      0.93      0.94        38\n",
            "   weighted avg       0.95      0.95      0.95        38\n",
            "\n"
          ]
        }
      ]
    },
    {
      "cell_type": "markdown",
      "source": [
        "### Logistic Regression"
      ],
      "metadata": {
        "id": "b1z_wh830Q3h"
      }
    },
    {
      "cell_type": "code",
      "source": [
        "'''\n",
        "- classification par probabilité (fonction logistique: sigmoid)\n",
        "- optimisation de coefficients avec la descente du dradient\n",
        "- binaire / multinomiale / ordinale\n",
        "'''\n",
        "from sklearn.linear_model import LogisticRegression\n",
        "clf_lr = LogisticRegression()\n",
        "y_pred = clf_lr.fit(X_train, y_train).predict(X_test)\n",
        "\n",
        "print('accuracy_score \\n', accuracy_score(y_test, y_pred))\n",
        "print('precision_score \\n', precision_score(y_test, y_pred, average=None))\n",
        "print('recall_score \\n', recall_score(y_test, y_pred, average=None))\n",
        "print('f1_score \\n', f1_score(y_test, y_pred, average=None))\n",
        "print('classification_report \\n', classification_report(y_test, y_pred))"
      ],
      "metadata": {
        "colab": {
          "base_uri": "https://localhost:8080/"
        },
        "id": "fD4ILDwRzv_k",
        "outputId": "4f017450-e84f-44f1-a96e-25c7e01bbf3a"
      },
      "execution_count": 12,
      "outputs": [
        {
          "output_type": "stream",
          "name": "stdout",
          "text": [
            "accuracy_score \n",
            " 0.9473684210526315\n",
            "precision_score \n",
            " [1.         0.9        0.92857143]\n",
            "recall_score \n",
            " [1.         0.9        0.92857143]\n",
            "f1_score \n",
            " [1.         0.9        0.92857143]\n",
            "classification_report \n",
            "                  precision    recall  f1-score   support\n",
            "\n",
            "    Iris-setosa       1.00      1.00      1.00        14\n",
            "Iris-versicolor       0.90      0.90      0.90        10\n",
            " Iris-virginica       0.93      0.93      0.93        14\n",
            "\n",
            "       accuracy                           0.95        38\n",
            "      macro avg       0.94      0.94      0.94        38\n",
            "   weighted avg       0.95      0.95      0.95        38\n",
            "\n"
          ]
        },
        {
          "output_type": "stream",
          "name": "stderr",
          "text": [
            "/usr/local/lib/python3.8/dist-packages/sklearn/linear_model/_logistic.py:814: ConvergenceWarning: lbfgs failed to converge (status=1):\n",
            "STOP: TOTAL NO. of ITERATIONS REACHED LIMIT.\n",
            "\n",
            "Increase the number of iterations (max_iter) or scale the data as shown in:\n",
            "    https://scikit-learn.org/stable/modules/preprocessing.html\n",
            "Please also refer to the documentation for alternative solver options:\n",
            "    https://scikit-learn.org/stable/modules/linear_model.html#logistic-regression\n",
            "  n_iter_i = _check_optimize_result(\n"
          ]
        }
      ]
    },
    {
      "cell_type": "markdown",
      "source": [
        "## Ensemble Learning - Random Forest"
      ],
      "metadata": {
        "id": "S5WC-0H14zSa"
      }
    },
    {
      "cell_type": "code",
      "source": [
        "'''\n",
        "- combinaison des modèles (faible prédiction) pour avoir une prédiction efficace\n",
        "- familles: \n",
        "  -méthode parallèle _moyenne de plusieurs prédictions_ (Random Forest / Baggin)\n",
        "  -méthode séquentiel _params adaptés itérativement_ -> meilleur mélange_ (boosting - XGBoost / AdaBoost)\n",
        "- combinaison:\n",
        "  - vote: indépendament les uns les autres\n",
        "  - coopération: chacun pour un problème\n",
        "  - décisions dépendantes: elimination d'hypothèse\n",
        "- Random Forest: apprentissage sur plusieurs arbres de décision, entrainés sur des sous ensembles légèrement differents\n",
        "  - classification multi-classe (étiquettes discréts + plusieurs classes)\n",
        "'''\n",
        "from sklearn.ensemble import RandomForestClassifier\n",
        "clf_randomf = RandomForestClassifier()\n",
        "y_pred = clf_randomf.fit(X_train, y_train).predict(X_test)\n",
        "\n",
        "print('accuracy_score \\n', accuracy_score(y_test, y_pred))\n",
        "print('precision_score \\n', precision_score(y_test, y_pred, average=None))\n",
        "print('recall_score \\n', recall_score(y_test, y_pred, average=None))\n",
        "print('f1_score \\n', f1_score(y_test, y_pred, average=None))\n",
        "print('classification_report \\n', classification_report(y_test, y_pred))"
      ],
      "metadata": {
        "colab": {
          "base_uri": "https://localhost:8080/"
        },
        "id": "CL7W0ER-4WCj",
        "outputId": "918c0f82-d622-4cde-b15a-7156401f2901"
      },
      "execution_count": 13,
      "outputs": [
        {
          "output_type": "stream",
          "name": "stdout",
          "text": [
            "accuracy_score \n",
            " 0.9736842105263158\n",
            "precision_score \n",
            " [1.         1.         0.93333333]\n",
            "recall_score \n",
            " [1.  0.9 1. ]\n",
            "f1_score \n",
            " [1.         0.94736842 0.96551724]\n",
            "classification_report \n",
            "                  precision    recall  f1-score   support\n",
            "\n",
            "    Iris-setosa       1.00      1.00      1.00        14\n",
            "Iris-versicolor       1.00      0.90      0.95        10\n",
            " Iris-virginica       0.93      1.00      0.97        14\n",
            "\n",
            "       accuracy                           0.97        38\n",
            "      macro avg       0.98      0.97      0.97        38\n",
            "   weighted avg       0.98      0.97      0.97        38\n",
            "\n"
          ]
        }
      ]
    },
    {
      "cell_type": "markdown",
      "source": [
        "## Linear Regression"
      ],
      "metadata": {
        "id": "ARmjQzJ-AIyd"
      }
    },
    {
      "cell_type": "code",
      "source": [
        "'''\n",
        "- univarié: y = ax + b \n",
        "- multiple: y = a1.x1 + a2.x2 + ... + ak.xk + b\n",
        "- généraliste: matrice Y = A.X + B (B estimé par méthode des moidres carrés ordinaires)\n",
        "'''\n",
        "from sklearn.linear_model import LinearRegression\n",
        "r_lr = LinearRegression()\n",
        "y_pred = r_lr.fit(diabetes_X_train, diabetes_y_train).predict(diabetes_X_test)\n",
        "\n",
        "print(r_lr.coef_, '\\n')\n",
        "print(r_lr.score(diabetes_X_test, diabetes_y_test))\n",
        "print(diabetes_X_test.shape)"
      ],
      "metadata": {
        "colab": {
          "base_uri": "https://localhost:8080/"
        },
        "id": "uw0A9y4yAAgI",
        "outputId": "0a6ebe03-1560-4020-cdf8-af8950fa4282"
      },
      "execution_count": 14,
      "outputs": [
        {
          "output_type": "stream",
          "name": "stdout",
          "text": [
            "[ 3.03499549e-01 -2.37639315e+02  5.10530605e+02  3.27736980e+02\n",
            " -8.14131709e+02  4.92814588e+02  1.02848452e+02  1.84606489e+02\n",
            "  7.43519617e+02  7.60951722e+01] \n",
            "\n",
            "0.5850753022690575\n",
            "(20, 10)\n"
          ]
        }
      ]
    },
    {
      "cell_type": "markdown",
      "source": [
        "### Régression Régularisée - Ridge / Lasso / Elasticnet"
      ],
      "metadata": {
        "id": "PX4n4eg7D90_"
      }
    },
    {
      "cell_type": "code",
      "source": [
        "'''\n",
        "extensions de linear regression pour éviter le sur-apprentissage\n",
        "- Ridge: trouver un coefficient qui va diminuer le poids de tous les params-> éviter l'apprentissage sur tous les sens\n",
        "- Lasso: sélectionner des variables et éliminer des autres, plus sévère que Ridge\n",
        "- Elasticnet.\n",
        "'''\n",
        "from sklearn.linear_model import Ridge\n",
        "r_ridge = Ridge(alpha=1.0)\n",
        "y_pred = r_ridge.fit(diabetes_X_train, diabetes_y_train)\n",
        "\n",
        "print(r_ridge.coef_, '\\n')\n",
        "print(r_ridge.score(diabetes_X_test, diabetes_y_test))\n",
        "print(diabetes_X_test.shape)"
      ],
      "metadata": {
        "id": "A5dUkaqyCOpA",
        "colab": {
          "base_uri": "https://localhost:8080/"
        },
        "outputId": "dfa0300f-a310-4bed-d41d-4d2cf5105bf3"
      },
      "execution_count": 15,
      "outputs": [
        {
          "output_type": "stream",
          "name": "stdout",
          "text": [
            "[  34.27253573  -80.06235273  296.73036586  199.14438365    6.14639012\n",
            "  -26.10294287 -150.21661191  119.4044712   254.49896275  115.68515613] \n",
            "\n",
            "0.44250075713127157\n",
            "(20, 10)\n"
          ]
        }
      ]
    },
    {
      "cell_type": "markdown",
      "source": [
        "### Régression Polynomiale"
      ],
      "metadata": {
        "id": "Hi4QaUyOC8Xc"
      }
    },
    {
      "cell_type": "code",
      "source": [
        "'''\n",
        "une fonction polynome pour décrire la relation entre nos paramètres\n",
        "NB: data +100k -> DL, Logistic Regression, Descente du Gradient (SGDClassifier / SGDRegressor)\n",
        "'''"
      ],
      "metadata": {
        "colab": {
          "base_uri": "https://localhost:8080/",
          "height": 0
        },
        "id": "zHXrAu8pCjNR",
        "outputId": "d5bde4a7-bf6e-4a77-d55b-9c3eefd66fc4"
      },
      "execution_count": 16,
      "outputs": [
        {
          "output_type": "execute_result",
          "data": {
            "text/plain": [
              "'\\nune fonction polynome pour décrire la relation entre nos paramètres\\nNB: data +100k -> DL, Logistic Regression, Descente du Gradient (SGDClassifier / SGDRegressor)\\n'"
            ],
            "application/vnd.google.colaboratory.intrinsic+json": {
              "type": "string"
            }
          },
          "metadata": {},
          "execution_count": 16
        }
      ]
    },
    {
      "cell_type": "markdown",
      "source": [
        "## Model Evaluation"
      ],
      "metadata": {
        "id": "eoQxvycHGvXT"
      }
    },
    {
      "cell_type": "code",
      "source": [
        "'''\n",
        "- Classification: matrice de confusion / courbe ROC / AUC / accuracy / précision / rappel / specificity / f1_score\n",
        "- Regression: erreur de prédiction / R-squared (elevée -> bon modèle) / RMSE (faible -> bon modèle) / MSE (pénalise les grands erreurs plus) \n",
        "  / MAE\n",
        "- Clustering: variance intra classe\n",
        "\n",
        "ROC (Receiver Operating Charactiristic): TPR (recall) en fonction des FPR (1-specificité)\n",
        "AUC (aire sous ROC): l'intégrale de ROC de (0,0) à (1,1)\n",
        "\n",
        "- classification_report -> le max des mesures de performance\n",
        "- \n",
        "'''"
      ],
      "metadata": {
        "id": "hDJCY9aULBqX",
        "colab": {
          "base_uri": "https://localhost:8080/",
          "height": 87
        },
        "outputId": "ce8f844a-b1de-4440-d4b8-689d7a42f794"
      },
      "execution_count": 17,
      "outputs": [
        {
          "output_type": "execute_result",
          "data": {
            "text/plain": [
              "\"\\n- Classification: matrice de confusion / courbe ROC / AUC / accuracy / précision / rappel / specificity / f1_score\\n- Regression: erreur de prédiction / R-squared (elevée -> bon modèle) / RMSE (faible -> bon modèle) / MSE (pénalise les grands erreurs plus) \\n  / MAE\\n- Clustering: variance intra classe\\n\\nROC (Receiver Operating Charactiristic): TPR (recall) en fonction des FPR (1-specificité)\\nAUC (aire sous ROC): l'intégrale de ROC de (0,0) à (1,1)\\n\\n- classification_report -> le max des mesures de performance\\n- \\n\""
            ],
            "application/vnd.google.colaboratory.intrinsic+json": {
              "type": "string"
            }
          },
          "metadata": {},
          "execution_count": 17
        }
      ]
    },
    {
      "cell_type": "markdown",
      "source": [
        "## Features Selection"
      ],
      "metadata": {
        "id": "nMgL4hzYIWDR"
      }
    },
    {
      "cell_type": "code",
      "source": [
        "'''\n",
        "- tests d'indépendance\n",
        "  - 2 quantitatives -> Correlation de Pearson\n",
        "  - 2 qualitatives -> Chi2\n",
        "  - 1 / 1 -> Fihcer avec analyse de la variance (ANOVA)\n",
        "- features selection: \n",
        "  - SelectKBest\n",
        "  - P_values, Scores_, Get_Support\n",
        "  - GridSearchCV: paramètres optimaux\n",
        "- hypothèse: p-value > 5% -> indépendantes\n",
        "- scipy.stats\n",
        "- régression -> pearson / classification -> chi2 + anova\n",
        "'''"
      ],
      "metadata": {
        "id": "O1Za1R_qG-QO",
        "colab": {
          "base_uri": "https://localhost:8080/",
          "height": 0
        },
        "outputId": "1e768b22-f708-47dd-9c5f-06dedc637e95"
      },
      "execution_count": 18,
      "outputs": [
        {
          "output_type": "execute_result",
          "data": {
            "text/plain": [
              "\"\\n- tests d'indépendance\\n  - 2 quantitatives -> Correlation de Pearson\\n  - 2 qualitatives -> Chi2\\n  - 1 / 1 -> Fihcer avec analyse de la variance (ANOVA)\\n- features selection: \\n  - SelectKBest\\n  - P_values, Scores_, Get_Support\\n  - GridSearchCV: paramètres optimaux\\n- hypothèse: p-value > 5% -> indépendantes\\n- scipy.stats\\n- régression -> pearson / classification -> chi2 + anova\\n\""
            ],
            "application/vnd.google.colaboratory.intrinsic+json": {
              "type": "string"
            }
          },
          "metadata": {},
          "execution_count": 18
        }
      ]
    },
    {
      "cell_type": "markdown",
      "source": [
        "## Model Validation"
      ],
      "metadata": {
        "id": "Fnx3sQ9eK-B0"
      }
    },
    {
      "cell_type": "code",
      "source": [
        "'''\n",
        "cross validation -> for small datasets\n",
        "- k-folds\n",
        "- leave one out\n",
        "'''"
      ],
      "metadata": {
        "id": "u1AlkypdFDjq",
        "colab": {
          "base_uri": "https://localhost:8080/",
          "height": 35
        },
        "outputId": "8b8979b3-2747-4b50-ec55-d80621d5a70a"
      },
      "execution_count": 19,
      "outputs": [
        {
          "output_type": "execute_result",
          "data": {
            "text/plain": [
              "'\\ncross validation -> for small datasets\\n- k-folds\\n- leave one out\\n'"
            ],
            "application/vnd.google.colaboratory.intrinsic+json": {
              "type": "string"
            }
          },
          "metadata": {},
          "execution_count": 19
        }
      ]
    },
    {
      "cell_type": "markdown",
      "source": [
        "## Save the Model"
      ],
      "metadata": {
        "id": "IiHuSY13LzYF"
      }
    },
    {
      "cell_type": "code",
      "source": [
        "'''\n",
        "sérialisation -> pickle or joblib\n",
        "dump -> load\n",
        "'''"
      ],
      "metadata": {
        "id": "4zHNO_e4L1Gw",
        "colab": {
          "base_uri": "https://localhost:8080/",
          "height": 0
        },
        "outputId": "aabb7b0b-324c-4965-8cbe-40701feba033"
      },
      "execution_count": 20,
      "outputs": [
        {
          "output_type": "execute_result",
          "data": {
            "text/plain": [
              "'\\nsérialisation -> pickle or joblib\\ndump -> load\\n'"
            ],
            "application/vnd.google.colaboratory.intrinsic+json": {
              "type": "string"
            }
          },
          "metadata": {},
          "execution_count": 20
        }
      ]
    }
  ]
}