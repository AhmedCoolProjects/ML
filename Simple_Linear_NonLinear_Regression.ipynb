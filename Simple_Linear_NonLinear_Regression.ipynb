{
  "nbformat": 4,
  "nbformat_minor": 0,
  "metadata": {
    "colab": {
      "name": "Simple_Linear-NonLinear_Regression.ipynb",
      "provenance": [],
      "collapsed_sections": [
        "YDlybbBRNAo2",
        "MP1aG7hSZQ7W"
      ],
      "authorship_tag": "ABX9TyPJefIrv+xrXjSRmUH/jS5Z",
      "include_colab_link": true
    },
    "kernelspec": {
      "name": "python3",
      "display_name": "Python 3"
    },
    "language_info": {
      "name": "python"
    }
  },
  "cells": [
    {
      "cell_type": "markdown",
      "metadata": {
        "id": "view-in-github",
        "colab_type": "text"
      },
      "source": [
        "<a href=\"https://colab.research.google.com/github/AhmedCoolProjects/ML/blob/main/Simple_Linear_NonLinear_Regression.ipynb\" target=\"_parent\"><img src=\"https://colab.research.google.com/assets/colab-badge.svg\" alt=\"Open In Colab\"/></a>"
      ]
    },
    {
      "cell_type": "markdown",
      "metadata": {
        "id": "Yk3lZViYVaxP"
      },
      "source": [
        "Building Model that predict if a cell is Bengin or Malignant based on a sample of data.\n",
        "> ML: is the subfield of computer science that gives computers the ability to learn without being explicitly programmed.\n",
        "* Regression/Estmation: predicting continuous values.\n",
        "* Classification: predicting the class/category of an item.\n",
        "* Clustering: Finding the structure of data / summarization.\n",
        "* Associations: associating frequent co-occuring items.\n",
        "* Anomaly Detection: discovering abnormal and unusual cases.\n",
        "* Squence Mining: predicting next event, (Markov Model, HMM).\n",
        "* Dimension Reduction: reduce size of data (PCA).\n",
        "* Recommandation System: recommanding items."
      ]
    },
    {
      "cell_type": "markdown",
      "metadata": {
        "id": "I_PYB94zZ9zw"
      },
      "source": [
        "* AI: make computers intelligent.\n",
        "* ML: statistical part of AI.\n",
        "* DL: computer can learn and make decision in their own."
      ]
    },
    {
      "cell_type": "markdown",
      "metadata": {
        "id": "_c3kUJdQayzA"
      },
      "source": [
        "Modules:\n",
        "* Numpy: math library with undimentional arrays.\n",
        "* SciPy: computation.\n",
        "* matplotlib.\n",
        "* Pnadas.\n",
        "* scikitLearn: free machine learning library.classification, regression,clustering."
      ]
    },
    {
      "cell_type": "markdown",
      "metadata": {
        "id": "AnU-KRRLcScR"
      },
      "source": [
        "* Supervised: labeled data. attributes(featurs) => labels.\n",
        "Classification & Regrission.\n",
        "* Unsupervised: discover information. unlabeled data. Dimension reduction, density estimation, market basket analysis, clustering..."
      ]
    },
    {
      "cell_type": "markdown",
      "metadata": {
        "id": "cHOXrqiwegkW"
      },
      "source": [
        "* Regression variables:\n",
        "1. Dependent variable **Y**: state, target, final goal.\n",
        "2. Independent variable **X**: causes.\n",
        "> f(X) = Y\n",
        "* Simple Regression (linear or non-linear with 1 independent variable) y = ax + b; a: slope ,b: intercept .\n",
        "* Multiple Regression (linear or non-linear with more than 1 independent variable).\n",
        "> sales forecasting.\n",
        "> satisfaction analysis.\n",
        "> price estimation.\n",
        "> employement income.\n",
        "\n",
        "\n"
      ]
    },
    {
      "cell_type": "markdown",
      "metadata": {
        "id": "9I-KRAB5_2eS"
      },
      "source": [
        "**Error**: the distance from the data point to the fitted regression line.\n",
        "\n",
        "**The Mean** of the errors shows how poorly the line fits with the whole dataset.\n",
        "\n",
        "**MSE**: **M**ean **S**quared **E**rror:\n",
        "\n",
        "1/n . Sigma(1,n)(yi - **yi**)^2\n",
        "\n",
        "\n"
      ]
    },
    {
      "cell_type": "markdown",
      "metadata": {
        "id": "_GnIwC0RyrBs"
      },
      "source": [
        "1. Train-Test in the same dataset:\n",
        "* hight training accuracy: percentage of correct predictions of the model makes when using testing data. not necessarily good. result of over-fitting. over-fit(the model is overly trained to the dataset, which may capture noise and produce a non-generalized model).\n",
        "* Low Out-of-sample accuracy: percentage of correct predictions of the model makes when using data that the model hasn't been trained on.\n",
        "> Purpose: imporve Out-of-sample accurcy.\n",
        "2. Train/Test split evaluation approach:\n",
        "portion for training and the rest for testing.\n",
        "3. K-fold cross-validation: divise into folds. 1 fold for testing and the rest for training.\n",
        "> accuracy = avg of the all cases accuracies.\n",
        "\n"
      ]
    },
    {
      "cell_type": "markdown",
      "metadata": {
        "id": "3YFLg9X7QavS"
      },
      "source": [
        "**Non-Linear Regression**: when the data shows a curevy trends. **y = b + ax^r**.\n",
        "> Linear Regression.\n",
        "> Quadratic(Parabolic) Regression.\n",
        "> Cubic regression...\n",
        "=> **Polynomial Regression**: fits a curve line in the data with degrees.\n",
        "=> Polynomieal regression model can be transformed into linear regression model (x1 = x, x2= x^2, x3= x^3,...)."
      ]
    },
    {
      "cell_type": "markdown",
      "metadata": {
        "id": "YDlybbBRNAo2"
      },
      "source": [
        "#Linear Regression(Simple)\n",
        "## Predicting CO2 Emmission of a car."
      ]
    },
    {
      "cell_type": "code",
      "metadata": {
        "id": "7g3k6MjqcRn_",
        "colab": {
          "base_uri": "https://localhost:8080/"
        },
        "outputId": "aba1f47b-4950-4988-afc9-e006792275a8"
      },
      "source": [
        "# getting data\n",
        "!wget -O FuelConsumption.csv https://cf-courses-data.s3.us.cloud-object-storage.appdomain.cloud/IBMDeveloperSkillsNetwork-ML0101EN-Coursera/labs/Data_files/FuelConsumptionCo2.csv"
      ],
      "execution_count": 44,
      "outputs": [
        {
          "output_type": "stream",
          "text": [
            "--2021-07-08 11:37:58--  https://cf-courses-data.s3.us.cloud-object-storage.appdomain.cloud/IBMDeveloperSkillsNetwork-ML0101EN-Coursera/labs/Data_files/FuelConsumptionCo2.csv\n",
            "Resolving cf-courses-data.s3.us.cloud-object-storage.appdomain.cloud (cf-courses-data.s3.us.cloud-object-storage.appdomain.cloud)... 169.63.118.104\n",
            "Connecting to cf-courses-data.s3.us.cloud-object-storage.appdomain.cloud (cf-courses-data.s3.us.cloud-object-storage.appdomain.cloud)|169.63.118.104|:443... connected.\n",
            "HTTP request sent, awaiting response... 200 OK\n",
            "Length: 72629 (71K) [text/csv]\n",
            "Saving to: ‘FuelConsumption.csv’\n",
            "\n",
            "FuelConsumption.csv 100%[===================>]  70.93K  --.-KB/s    in 0.04s   \n",
            "\n",
            "2021-07-08 11:37:58 (1.95 MB/s) - ‘FuelConsumption.csv’ saved [72629/72629]\n",
            "\n"
          ],
          "name": "stdout"
        }
      ]
    },
    {
      "cell_type": "code",
      "metadata": {
        "id": "AZZW8WkrNSaG"
      },
      "source": [
        "import matplotlib.pyplot as plt\n",
        "import pandas as pd\n",
        "import numpy as np\n",
        "import pylab as pl\n",
        "%matplotlib inline"
      ],
      "execution_count": 45,
      "outputs": []
    },
    {
      "cell_type": "code",
      "metadata": {
        "colab": {
          "base_uri": "https://localhost:8080/",
          "height": 275
        },
        "id": "YqnbKiLcNlJt",
        "outputId": "18572bb8-0c81-44d7-b8e3-705351706c52"
      },
      "source": [
        "df = pd.read_csv('/content/FuelConsumption.csv')\n",
        "df.head()"
      ],
      "execution_count": 46,
      "outputs": [
        {
          "output_type": "execute_result",
          "data": {
            "text/html": [
              "<div>\n",
              "<style scoped>\n",
              "    .dataframe tbody tr th:only-of-type {\n",
              "        vertical-align: middle;\n",
              "    }\n",
              "\n",
              "    .dataframe tbody tr th {\n",
              "        vertical-align: top;\n",
              "    }\n",
              "\n",
              "    .dataframe thead th {\n",
              "        text-align: right;\n",
              "    }\n",
              "</style>\n",
              "<table border=\"1\" class=\"dataframe\">\n",
              "  <thead>\n",
              "    <tr style=\"text-align: right;\">\n",
              "      <th></th>\n",
              "      <th>MODELYEAR</th>\n",
              "      <th>MAKE</th>\n",
              "      <th>MODEL</th>\n",
              "      <th>VEHICLECLASS</th>\n",
              "      <th>ENGINESIZE</th>\n",
              "      <th>CYLINDERS</th>\n",
              "      <th>TRANSMISSION</th>\n",
              "      <th>FUELTYPE</th>\n",
              "      <th>FUELCONSUMPTION_CITY</th>\n",
              "      <th>FUELCONSUMPTION_HWY</th>\n",
              "      <th>FUELCONSUMPTION_COMB</th>\n",
              "      <th>FUELCONSUMPTION_COMB_MPG</th>\n",
              "      <th>CO2EMISSIONS</th>\n",
              "    </tr>\n",
              "  </thead>\n",
              "  <tbody>\n",
              "    <tr>\n",
              "      <th>0</th>\n",
              "      <td>2014</td>\n",
              "      <td>ACURA</td>\n",
              "      <td>ILX</td>\n",
              "      <td>COMPACT</td>\n",
              "      <td>2.0</td>\n",
              "      <td>4</td>\n",
              "      <td>AS5</td>\n",
              "      <td>Z</td>\n",
              "      <td>9.9</td>\n",
              "      <td>6.7</td>\n",
              "      <td>8.5</td>\n",
              "      <td>33</td>\n",
              "      <td>196</td>\n",
              "    </tr>\n",
              "    <tr>\n",
              "      <th>1</th>\n",
              "      <td>2014</td>\n",
              "      <td>ACURA</td>\n",
              "      <td>ILX</td>\n",
              "      <td>COMPACT</td>\n",
              "      <td>2.4</td>\n",
              "      <td>4</td>\n",
              "      <td>M6</td>\n",
              "      <td>Z</td>\n",
              "      <td>11.2</td>\n",
              "      <td>7.7</td>\n",
              "      <td>9.6</td>\n",
              "      <td>29</td>\n",
              "      <td>221</td>\n",
              "    </tr>\n",
              "    <tr>\n",
              "      <th>2</th>\n",
              "      <td>2014</td>\n",
              "      <td>ACURA</td>\n",
              "      <td>ILX HYBRID</td>\n",
              "      <td>COMPACT</td>\n",
              "      <td>1.5</td>\n",
              "      <td>4</td>\n",
              "      <td>AV7</td>\n",
              "      <td>Z</td>\n",
              "      <td>6.0</td>\n",
              "      <td>5.8</td>\n",
              "      <td>5.9</td>\n",
              "      <td>48</td>\n",
              "      <td>136</td>\n",
              "    </tr>\n",
              "    <tr>\n",
              "      <th>3</th>\n",
              "      <td>2014</td>\n",
              "      <td>ACURA</td>\n",
              "      <td>MDX 4WD</td>\n",
              "      <td>SUV - SMALL</td>\n",
              "      <td>3.5</td>\n",
              "      <td>6</td>\n",
              "      <td>AS6</td>\n",
              "      <td>Z</td>\n",
              "      <td>12.7</td>\n",
              "      <td>9.1</td>\n",
              "      <td>11.1</td>\n",
              "      <td>25</td>\n",
              "      <td>255</td>\n",
              "    </tr>\n",
              "    <tr>\n",
              "      <th>4</th>\n",
              "      <td>2014</td>\n",
              "      <td>ACURA</td>\n",
              "      <td>RDX AWD</td>\n",
              "      <td>SUV - SMALL</td>\n",
              "      <td>3.5</td>\n",
              "      <td>6</td>\n",
              "      <td>AS6</td>\n",
              "      <td>Z</td>\n",
              "      <td>12.1</td>\n",
              "      <td>8.7</td>\n",
              "      <td>10.6</td>\n",
              "      <td>27</td>\n",
              "      <td>244</td>\n",
              "    </tr>\n",
              "  </tbody>\n",
              "</table>\n",
              "</div>"
            ],
            "text/plain": [
              "   MODELYEAR   MAKE  ... FUELCONSUMPTION_COMB_MPG CO2EMISSIONS\n",
              "0       2014  ACURA  ...                       33          196\n",
              "1       2014  ACURA  ...                       29          221\n",
              "2       2014  ACURA  ...                       48          136\n",
              "3       2014  ACURA  ...                       25          255\n",
              "4       2014  ACURA  ...                       27          244\n",
              "\n",
              "[5 rows x 13 columns]"
            ]
          },
          "metadata": {
            "tags": []
          },
          "execution_count": 46
        }
      ]
    },
    {
      "cell_type": "code",
      "metadata": {
        "colab": {
          "base_uri": "https://localhost:8080/"
        },
        "id": "F0fIajViNyUP",
        "outputId": "052dafbb-2c13-44b6-89ae-d36c98901f68"
      },
      "source": [
        "df.info()"
      ],
      "execution_count": 47,
      "outputs": [
        {
          "output_type": "stream",
          "text": [
            "<class 'pandas.core.frame.DataFrame'>\n",
            "RangeIndex: 1067 entries, 0 to 1066\n",
            "Data columns (total 13 columns):\n",
            " #   Column                    Non-Null Count  Dtype  \n",
            "---  ------                    --------------  -----  \n",
            " 0   MODELYEAR                 1067 non-null   int64  \n",
            " 1   MAKE                      1067 non-null   object \n",
            " 2   MODEL                     1067 non-null   object \n",
            " 3   VEHICLECLASS              1067 non-null   object \n",
            " 4   ENGINESIZE                1067 non-null   float64\n",
            " 5   CYLINDERS                 1067 non-null   int64  \n",
            " 6   TRANSMISSION              1067 non-null   object \n",
            " 7   FUELTYPE                  1067 non-null   object \n",
            " 8   FUELCONSUMPTION_CITY      1067 non-null   float64\n",
            " 9   FUELCONSUMPTION_HWY       1067 non-null   float64\n",
            " 10  FUELCONSUMPTION_COMB      1067 non-null   float64\n",
            " 11  FUELCONSUMPTION_COMB_MPG  1067 non-null   int64  \n",
            " 12  CO2EMISSIONS              1067 non-null   int64  \n",
            "dtypes: float64(4), int64(4), object(5)\n",
            "memory usage: 108.5+ KB\n"
          ],
          "name": "stdout"
        }
      ]
    },
    {
      "cell_type": "code",
      "metadata": {
        "colab": {
          "base_uri": "https://localhost:8080/",
          "height": 204
        },
        "id": "sER-bmdaOggT",
        "outputId": "172b9d06-4b61-4a68-c2ef-194a56973ccc"
      },
      "source": [
        "cdf = df[['ENGINESIZE','CYLINDERS','FUELTYPE','FUELCONSUMPTION_COMB','CO2EMISSIONS']]\n",
        "cdf.head()"
      ],
      "execution_count": 48,
      "outputs": [
        {
          "output_type": "execute_result",
          "data": {
            "text/html": [
              "<div>\n",
              "<style scoped>\n",
              "    .dataframe tbody tr th:only-of-type {\n",
              "        vertical-align: middle;\n",
              "    }\n",
              "\n",
              "    .dataframe tbody tr th {\n",
              "        vertical-align: top;\n",
              "    }\n",
              "\n",
              "    .dataframe thead th {\n",
              "        text-align: right;\n",
              "    }\n",
              "</style>\n",
              "<table border=\"1\" class=\"dataframe\">\n",
              "  <thead>\n",
              "    <tr style=\"text-align: right;\">\n",
              "      <th></th>\n",
              "      <th>ENGINESIZE</th>\n",
              "      <th>CYLINDERS</th>\n",
              "      <th>FUELTYPE</th>\n",
              "      <th>FUELCONSUMPTION_COMB</th>\n",
              "      <th>CO2EMISSIONS</th>\n",
              "    </tr>\n",
              "  </thead>\n",
              "  <tbody>\n",
              "    <tr>\n",
              "      <th>0</th>\n",
              "      <td>2.0</td>\n",
              "      <td>4</td>\n",
              "      <td>Z</td>\n",
              "      <td>8.5</td>\n",
              "      <td>196</td>\n",
              "    </tr>\n",
              "    <tr>\n",
              "      <th>1</th>\n",
              "      <td>2.4</td>\n",
              "      <td>4</td>\n",
              "      <td>Z</td>\n",
              "      <td>9.6</td>\n",
              "      <td>221</td>\n",
              "    </tr>\n",
              "    <tr>\n",
              "      <th>2</th>\n",
              "      <td>1.5</td>\n",
              "      <td>4</td>\n",
              "      <td>Z</td>\n",
              "      <td>5.9</td>\n",
              "      <td>136</td>\n",
              "    </tr>\n",
              "    <tr>\n",
              "      <th>3</th>\n",
              "      <td>3.5</td>\n",
              "      <td>6</td>\n",
              "      <td>Z</td>\n",
              "      <td>11.1</td>\n",
              "      <td>255</td>\n",
              "    </tr>\n",
              "    <tr>\n",
              "      <th>4</th>\n",
              "      <td>3.5</td>\n",
              "      <td>6</td>\n",
              "      <td>Z</td>\n",
              "      <td>10.6</td>\n",
              "      <td>244</td>\n",
              "    </tr>\n",
              "  </tbody>\n",
              "</table>\n",
              "</div>"
            ],
            "text/plain": [
              "   ENGINESIZE  CYLINDERS FUELTYPE  FUELCONSUMPTION_COMB  CO2EMISSIONS\n",
              "0         2.0          4        Z                   8.5           196\n",
              "1         2.4          4        Z                   9.6           221\n",
              "2         1.5          4        Z                   5.9           136\n",
              "3         3.5          6        Z                  11.1           255\n",
              "4         3.5          6        Z                  10.6           244"
            ]
          },
          "metadata": {
            "tags": []
          },
          "execution_count": 48
        }
      ]
    },
    {
      "cell_type": "code",
      "metadata": {
        "colab": {
          "base_uri": "https://localhost:8080/",
          "height": 204
        },
        "id": "aUU62HQqPIv9",
        "outputId": "6392821a-4084-490d-c438-e1d1adc73b46"
      },
      "source": [
        "viz = cdf.drop('FUELTYPE',axis=1)\n",
        "viz.head()"
      ],
      "execution_count": 49,
      "outputs": [
        {
          "output_type": "execute_result",
          "data": {
            "text/html": [
              "<div>\n",
              "<style scoped>\n",
              "    .dataframe tbody tr th:only-of-type {\n",
              "        vertical-align: middle;\n",
              "    }\n",
              "\n",
              "    .dataframe tbody tr th {\n",
              "        vertical-align: top;\n",
              "    }\n",
              "\n",
              "    .dataframe thead th {\n",
              "        text-align: right;\n",
              "    }\n",
              "</style>\n",
              "<table border=\"1\" class=\"dataframe\">\n",
              "  <thead>\n",
              "    <tr style=\"text-align: right;\">\n",
              "      <th></th>\n",
              "      <th>ENGINESIZE</th>\n",
              "      <th>CYLINDERS</th>\n",
              "      <th>FUELCONSUMPTION_COMB</th>\n",
              "      <th>CO2EMISSIONS</th>\n",
              "    </tr>\n",
              "  </thead>\n",
              "  <tbody>\n",
              "    <tr>\n",
              "      <th>0</th>\n",
              "      <td>2.0</td>\n",
              "      <td>4</td>\n",
              "      <td>8.5</td>\n",
              "      <td>196</td>\n",
              "    </tr>\n",
              "    <tr>\n",
              "      <th>1</th>\n",
              "      <td>2.4</td>\n",
              "      <td>4</td>\n",
              "      <td>9.6</td>\n",
              "      <td>221</td>\n",
              "    </tr>\n",
              "    <tr>\n",
              "      <th>2</th>\n",
              "      <td>1.5</td>\n",
              "      <td>4</td>\n",
              "      <td>5.9</td>\n",
              "      <td>136</td>\n",
              "    </tr>\n",
              "    <tr>\n",
              "      <th>3</th>\n",
              "      <td>3.5</td>\n",
              "      <td>6</td>\n",
              "      <td>11.1</td>\n",
              "      <td>255</td>\n",
              "    </tr>\n",
              "    <tr>\n",
              "      <th>4</th>\n",
              "      <td>3.5</td>\n",
              "      <td>6</td>\n",
              "      <td>10.6</td>\n",
              "      <td>244</td>\n",
              "    </tr>\n",
              "  </tbody>\n",
              "</table>\n",
              "</div>"
            ],
            "text/plain": [
              "   ENGINESIZE  CYLINDERS  FUELCONSUMPTION_COMB  CO2EMISSIONS\n",
              "0         2.0          4                   8.5           196\n",
              "1         2.4          4                   9.6           221\n",
              "2         1.5          4                   5.9           136\n",
              "3         3.5          6                  11.1           255\n",
              "4         3.5          6                  10.6           244"
            ]
          },
          "metadata": {
            "tags": []
          },
          "execution_count": 49
        }
      ]
    },
    {
      "cell_type": "code",
      "metadata": {
        "colab": {
          "base_uri": "https://localhost:8080/",
          "height": 281
        },
        "id": "2Et4bJZ1Px-Y",
        "outputId": "0662445d-ad09-4fdc-b86b-9e22ef273097"
      },
      "source": [
        "viz.hist()\n",
        "plt.show()"
      ],
      "execution_count": 50,
      "outputs": [
        {
          "output_type": "display_data",
          "data": {
            "image/png": "[encoded data removed]",
            "text/plain": [
              "<Figure size 432x288 with 4 Axes>"
            ]
          },
          "metadata": {
            "tags": [],
            "needs_background": "light"
          }
        }
      ]
    },
    {
      "cell_type": "code",
      "metadata": {
        "colab": {
          "base_uri": "https://localhost:8080/",
          "height": 281
        },
        "id": "kkg96PedP18J",
        "outputId": "073e0d62-86b5-42f3-84f1-3ee1059099bd"
      },
      "source": [
        "# Lets see how linear is the relation between the CO2Emmissions and the other independent features.\n",
        "plt.scatter(cdf.FUELCONSUMPTION_COMB,cdf.CO2EMISSIONS,color='blue')\n",
        "plt.xlabel('FUELCONSUMPTION_COMB')\n",
        "plt.ylabel('CO2EMISSIONS')\n",
        "plt.show()"
      ],
      "execution_count": 51,
      "outputs": [
        {
          "output_type": "display_data",
          "data": {
            "image/png": "[encoded data removed]",
            "text/plain": [
              "<Figure size 432x288 with 1 Axes>"
            ]
          },
          "metadata": {
            "tags": [],
            "needs_background": "light"
          }
        }
      ]
    },
    {
      "cell_type": "code",
      "metadata": {
        "colab": {
          "base_uri": "https://localhost:8080/",
          "height": 280
        },
        "id": "31yR5GrhRQYg",
        "outputId": "96d76483-e5d8-4c2a-a2b2-43250ccb1cc9"
      },
      "source": [
        "plt.scatter(cdf.CYLINDERS,cdf.CO2EMISSIONS,color='blue')\n",
        "plt.xlabel('CYLINDERS')\n",
        "plt.ylabel('CO2EMISSIONS')\n",
        "plt.show()"
      ],
      "execution_count": 52,
      "outputs": [
        {
          "output_type": "display_data",
          "data": {
            "image/png": "[encoded data removed]",
            "text/plain": [
              "<Figure size 432x288 with 1 Axes>"
            ]
          },
          "metadata": {
            "tags": [],
            "needs_background": "light"
          }
        }
      ]
    },
    {
      "cell_type": "code",
      "metadata": {
        "colab": {
          "base_uri": "https://localhost:8080/",
          "height": 280
        },
        "id": "Nc4Zj6nsRl-M",
        "outputId": "eddd0350-a1b3-49ad-b13e-6c7764548ec7"
      },
      "source": [
        "plt.scatter(cdf.ENGINESIZE,cdf.CO2EMISSIONS,color='blue')\n",
        "plt.xlabel('ENGINESIZE')\n",
        "plt.ylabel('CO2EMISSIONS')\n",
        "plt.show()"
      ],
      "execution_count": 53,
      "outputs": [
        {
          "output_type": "display_data",
          "data": {
            "image/png": "[encoded data removed]",
            "text/plain": [
              "<Figure size 432x288 with 1 Axes>"
            ]
          },
          "metadata": {
            "tags": [],
            "needs_background": "light"
          }
        }
      ]
    },
    {
      "cell_type": "code",
      "metadata": {
        "id": "s_ux7IN_RvyB"
      },
      "source": [
        "# lets build a model that can \n",
        "# creating training and testing datasets.\n",
        "msk = np.random.rand(len(df)) < 0.8\n",
        "train = cdf[msk]\n",
        "test = cdf[~msk]"
      ],
      "execution_count": 54,
      "outputs": []
    },
    {
      "cell_type": "code",
      "metadata": {
        "id": "_oxs9dH6T9B5"
      },
      "source": [
        "# scikitlearn\n",
        "from sklearn import linear_model"
      ],
      "execution_count": 55,
      "outputs": []
    },
    {
      "cell_type": "code",
      "metadata": {
        "id": "-O7yMpq9UxvL",
        "colab": {
          "base_uri": "https://localhost:8080/"
        },
        "outputId": "8db0df8b-f0ac-4b6d-bc71-dbcb535d249e"
      },
      "source": [
        "regr = linear_model.LinearRegression()\n",
        "train_x = np.asanyarray(train[['ENGINESIZE']])\n",
        "train_y = np.asanyarray(train[['CO2EMISSIONS']])\n",
        "regr.fit(train_x,train_y)\n"
      ],
      "execution_count": 56,
      "outputs": [
        {
          "output_type": "execute_result",
          "data": {
            "text/plain": [
              "LinearRegression(copy_X=True, fit_intercept=True, n_jobs=None, normalize=False)"
            ]
          },
          "metadata": {
            "tags": []
          },
          "execution_count": 56
        }
      ]
    },
    {
      "cell_type": "code",
      "metadata": {
        "colab": {
          "base_uri": "https://localhost:8080/"
        },
        "id": "MKwKf80oVLHA",
        "outputId": "5f7c6893-66d6-436f-d90d-c16b8b32bb72"
      },
      "source": [
        "regr.coef_"
      ],
      "execution_count": 57,
      "outputs": [
        {
          "output_type": "execute_result",
          "data": {
            "text/plain": [
              "array([[39.01831868]])"
            ]
          },
          "metadata": {
            "tags": []
          },
          "execution_count": 57
        }
      ]
    },
    {
      "cell_type": "code",
      "metadata": {
        "colab": {
          "base_uri": "https://localhost:8080/"
        },
        "id": "nInOQ_HAVPKf",
        "outputId": "d2f1a972-3670-4908-c4c3-3a943a56f116"
      },
      "source": [
        "regr.intercept_"
      ],
      "execution_count": 58,
      "outputs": [
        {
          "output_type": "execute_result",
          "data": {
            "text/plain": [
              "array([126.78847079])"
            ]
          },
          "metadata": {
            "tags": []
          },
          "execution_count": 58
        }
      ]
    },
    {
      "cell_type": "code",
      "metadata": {
        "colab": {
          "base_uri": "https://localhost:8080/",
          "height": 334
        },
        "id": "nnBn9_QoVSe0",
        "outputId": "cb60bf13-844f-464d-9747-a1d91224f4b7"
      },
      "source": [
        "plt.figure(figsize=(8,5))\n",
        "plt.scatter(train.ENGINESIZE,train.CO2EMISSIONS,color='blue')\n",
        "plt.plot(train_x,train_x*regr.coef_[0][0]+regr.intercept_[0],'-r')\n",
        "plt.xlabel('ENGINESIZE')\n",
        "plt.ylabel('CO2EMISSIONS')\n",
        "plt.show()"
      ],
      "execution_count": 59,
      "outputs": [
        {
          "output_type": "display_data",
          "data": {
            "image/png": "[encoded data removed]",
            "text/plain": [
              "<Figure size 576x360 with 1 Axes>"
            ]
          },
          "metadata": {
            "tags": [],
            "needs_background": "light"
          }
        }
      ]
    },
    {
      "cell_type": "code",
      "metadata": {
        "id": "TdWLsdzKWQAw"
      },
      "source": [
        "# model evaluation\n",
        "from sklearn.metrics import r2_score"
      ],
      "execution_count": 60,
      "outputs": []
    },
    {
      "cell_type": "code",
      "metadata": {
        "colab": {
          "base_uri": "https://localhost:8080/"
        },
        "id": "-b_eDPPOXSAU",
        "outputId": "bda4094c-370a-4020-d7a2-312e87980ae9"
      },
      "source": [
        "test_x = np.asanyarray(test[['ENGINESIZE']])\n",
        "test_y = np.asanyarray(test[['CO2EMISSIONS']])\n",
        "test_y_pre = regr.predict(test_x)\n",
        "print('MAE: %.2f' % np.mean(np.absolute(test_y_pre - test_y)))\n",
        "print('MSE : %.2f' % np.mean((test_y_pre - test_y)**2))\n",
        "print('R2-score : %.2f' % r2_score(test_y_pre,test_y))"
      ],
      "execution_count": 61,
      "outputs": [
        {
          "output_type": "stream",
          "text": [
            "MAE: 24.48\n",
            "MSE : 1044.65\n",
            "R2-score : 0.66\n"
          ],
          "name": "stdout"
        }
      ]
    },
    {
      "cell_type": "markdown",
      "metadata": {
        "id": "MP1aG7hSZQ7W"
      },
      "source": [
        "#Non-Linear Regression(Simple)\n",
        "## predicting China's GDP on data between 1960-2014."
      ]
    },
    {
      "cell_type": "code",
      "metadata": {
        "id": "yz8FFRCEZOS3",
        "colab": {
          "base_uri": "https://localhost:8080/"
        },
        "outputId": "67aac7cf-8e7e-4c79-f56a-f216026f19b5"
      },
      "source": [
        "# downloading the dataset\n",
        "!wget -nv -O china_gdp.csv https://cf-courses-data.s3.us.cloud-object-storage.appdomain.cloud/IBMDeveloperSkillsNetwork-ML0101EN-Coursera/labs/Data_files/china_gdp.csv"
      ],
      "execution_count": 62,
      "outputs": [
        {
          "output_type": "stream",
          "text": [
            "2021-07-08 11:38:01 URL:https://cf-courses-data.s3.us.cloud-object-storage.appdomain.cloud/IBMDeveloperSkillsNetwork-ML0101EN-Coursera/labs/Data_files/china_gdp.csv [1218/1218] -> \"china_gdp.csv\" [1]\n"
          ],
          "name": "stdout"
        }
      ]
    },
    {
      "cell_type": "code",
      "metadata": {
        "colab": {
          "base_uri": "https://localhost:8080/",
          "height": 204
        },
        "id": "d2FcUFLsVQj4",
        "outputId": "56e42832-67f0-4315-a2e4-ef7d7558cc93"
      },
      "source": [
        "df = pd.read_csv('/content/china_gdp.csv')\n",
        "df.head()"
      ],
      "execution_count": 63,
      "outputs": [
        {
          "output_type": "execute_result",
          "data": {
            "text/html": [
              "<div>\n",
              "<style scoped>\n",
              "    .dataframe tbody tr th:only-of-type {\n",
              "        vertical-align: middle;\n",
              "    }\n",
              "\n",
              "    .dataframe tbody tr th {\n",
              "        vertical-align: top;\n",
              "    }\n",
              "\n",
              "    .dataframe thead th {\n",
              "        text-align: right;\n",
              "    }\n",
              "</style>\n",
              "<table border=\"1\" class=\"dataframe\">\n",
              "  <thead>\n",
              "    <tr style=\"text-align: right;\">\n",
              "      <th></th>\n",
              "      <th>Year</th>\n",
              "      <th>Value</th>\n",
              "    </tr>\n",
              "  </thead>\n",
              "  <tbody>\n",
              "    <tr>\n",
              "      <th>0</th>\n",
              "      <td>1960</td>\n",
              "      <td>5.918412e+10</td>\n",
              "    </tr>\n",
              "    <tr>\n",
              "      <th>1</th>\n",
              "      <td>1961</td>\n",
              "      <td>4.955705e+10</td>\n",
              "    </tr>\n",
              "    <tr>\n",
              "      <th>2</th>\n",
              "      <td>1962</td>\n",
              "      <td>4.668518e+10</td>\n",
              "    </tr>\n",
              "    <tr>\n",
              "      <th>3</th>\n",
              "      <td>1963</td>\n",
              "      <td>5.009730e+10</td>\n",
              "    </tr>\n",
              "    <tr>\n",
              "      <th>4</th>\n",
              "      <td>1964</td>\n",
              "      <td>5.906225e+10</td>\n",
              "    </tr>\n",
              "  </tbody>\n",
              "</table>\n",
              "</div>"
            ],
            "text/plain": [
              "   Year         Value\n",
              "0  1960  5.918412e+10\n",
              "1  1961  4.955705e+10\n",
              "2  1962  4.668518e+10\n",
              "3  1963  5.009730e+10\n",
              "4  1964  5.906225e+10"
            ]
          },
          "metadata": {
            "tags": []
          },
          "execution_count": 63
        }
      ]
    },
    {
      "cell_type": "code",
      "metadata": {
        "colab": {
          "base_uri": "https://localhost:8080/",
          "height": 345
        },
        "id": "2-VyDnzxVgXg",
        "outputId": "6744570c-3ec2-46e1-a5e9-82a2764266f4"
      },
      "source": [
        "plt.figure(figsize=(8,5))\n",
        "plt.plot(df.Year,df.Value,color='red')\n",
        "plt.xlabel('Year')\n",
        "plt.ylabel('GDP')\n",
        "plt.show()"
      ],
      "execution_count": 64,
      "outputs": [
        {
          "output_type": "display_data",
          "data": {
            "image/png": "[encoded data removed]",
            "text/plain": [
              "<Figure size 576x360 with 1 Axes>"
            ]
          },
          "metadata": {
            "tags": [],
            "needs_background": "light"
          }
        }
      ]
    },
    {
      "cell_type": "code",
      "metadata": {
        "colab": {
          "base_uri": "https://localhost:8080/",
          "height": 279
        },
        "id": "N9S9PPJCWDLF",
        "outputId": "426cf03a-cd06-4e33-d20c-c86c23d417ad"
      },
      "source": [
        "# exp of logistic function\n",
        "x = np.arange(-5,5,0.1)\n",
        "y = 1 / (1+ np.exp(-x))\n",
        "plt.plot(x,y)\n",
        "plt.xlabel('Independent Variable')\n",
        "plt.ylabel('Dependent Variable')\n",
        "plt.show()"
      ],
      "execution_count": 65,
      "outputs": [
        {
          "output_type": "display_data",
          "data": {
            "image/png": "[encoded data removed]",
            "text/plain": [
              "<Figure size 432x288 with 1 Axes>"
            ]
          },
          "metadata": {
            "tags": [],
            "needs_background": "light"
          }
        }
      ]
    },
    {
      "cell_type": "code",
      "metadata": {
        "id": "2AsVBZPQXPbb"
      },
      "source": [
        "def sigmoid(x,beta1,beta2):\n",
        "  y = 1 / (1 + np.exp(-beta1*(x-beta2)))\n",
        "  return y"
      ],
      "execution_count": 66,
      "outputs": []
    },
    {
      "cell_type": "code",
      "metadata": {
        "colab": {
          "base_uri": "https://localhost:8080/"
        },
        "id": "NuktTb5NYgOt",
        "outputId": "a8457713-56a1-4e76-a1df-bd2adabab95f"
      },
      "source": [
        "# normalizing our data\n",
        "xdata = df.Year/max(df.Year)\n",
        "ydata = df.Value/max(df.Value)\n",
        "df.info()"
      ],
      "execution_count": 67,
      "outputs": [
        {
          "output_type": "stream",
          "text": [
            "<class 'pandas.core.frame.DataFrame'>\n",
            "RangeIndex: 55 entries, 0 to 54\n",
            "Data columns (total 2 columns):\n",
            " #   Column  Non-Null Count  Dtype  \n",
            "---  ------  --------------  -----  \n",
            " 0   Year    55 non-null     int64  \n",
            " 1   Value   55 non-null     float64\n",
            "dtypes: float64(1), int64(1)\n",
            "memory usage: 1008.0 bytes\n"
          ],
          "name": "stdout"
        }
      ]
    },
    {
      "cell_type": "code",
      "metadata": {
        "colab": {
          "base_uri": "https://localhost:8080/"
        },
        "id": "Wf4NKBdmY3t1",
        "outputId": "f8eafb7f-af8b-4f40-8333-38575161a09b"
      },
      "source": [
        "from scipy.optimize import curve_fit\n",
        "popt,pcov  = curve_fit(sigmoid,xdata,ydata)\n",
        "print('beta1 = %f, beta2 = %f' % (popt[0],popt[1]))"
      ],
      "execution_count": 68,
      "outputs": [
        {
          "output_type": "stream",
          "text": [
            "beta1 = 690.453017, beta2 = 0.997207\n"
          ],
          "name": "stdout"
        }
      ]
    },
    {
      "cell_type": "code",
      "metadata": {
        "colab": {
          "base_uri": "https://localhost:8080/",
          "height": 334
        },
        "id": "UVZMklfPZbwJ",
        "outputId": "296cae14-2c1f-4ed4-9856-73a41c664a4d"
      },
      "source": [
        "x = np.linspace(1960,2015,55)\n",
        "x = x/max(x)\n",
        "plt.figure(figsize=(8,5))\n",
        "y = sigmoid(x,*popt)\n",
        "plt.plot(xdata,ydata,'ro',label='data')\n",
        "plt.plot(x,y,linewidth=3.0,label='fit')\n",
        "plt.legend(loc='best')\n",
        "plt.ylabel('GDP')\n",
        "plt.xlabel('Year')\n",
        "plt.show()"
      ],
      "execution_count": 69,
      "outputs": [
        {
          "output_type": "display_data",
          "data": {
            "image/png": "[encoded data removed]",
            "text/plain": [
              "<Figure size 576x360 with 1 Axes>"
            ]
          },
          "metadata": {
            "tags": [],
            "needs_background": "light"
          }
        }
      ]
    },
    {
      "cell_type": "code",
      "metadata": {
        "colab": {
          "base_uri": "https://localhost:8080/"
        },
        "id": "_nx5T6ysaKcB",
        "outputId": "5317d23c-f153-4552-efa1-bdef3c291795"
      },
      "source": [
        "# accuracy train-test in same dataset.\n",
        "from sklearn.metrics import r2_score\n",
        "print('MAE : %.2f' % np.mean(np.absolute(ydata - y)))\n",
        "print('MSE : %.2f' % np.mean((ydata - y)**2))\n",
        "print('R2 : %.2f' % r2_score(ydata,y))\n"
      ],
      "execution_count": 70,
      "outputs": [
        {
          "output_type": "stream",
          "text": [
            "MAE : 0.03\n",
            "MSE : 0.00\n",
            "R2 : 0.97\n"
          ],
          "name": "stdout"
        }
      ]
    },
    {
      "cell_type": "code",
      "metadata": {
        "colab": {
          "base_uri": "https://localhost:8080/"
        },
        "id": "UeLruNTEkW7a",
        "outputId": "294532e7-8f2b-456e-a818-c7a31968f3c5"
      },
      "source": [
        "#train-test split dataset.\n",
        "msk = np.random.rand(len(df)) < 0.8\n",
        "x_training = xdata[msk]\n",
        "y_training = ydata[msk]\n",
        "x_testing = xdata[~msk]\n",
        "y_testing = ydata[~msk]\n",
        "# train the model\n",
        "popt,pcov = curve_fit(sigmoid,x_training,y_training)\n",
        "print(*popt)"
      ],
      "execution_count": 71,
      "outputs": [
        {
          "output_type": "stream",
          "text": [
            "720.256040938575 0.9972113270243567\n"
          ],
          "name": "stdout"
        }
      ]
    },
    {
      "cell_type": "code",
      "metadata": {
        "colab": {
          "base_uri": "https://localhost:8080/"
        },
        "id": "PXUttzZvs06E",
        "outputId": "ea472178-e118-4892-9439-5410d1d63b0c"
      },
      "source": [
        "# evaluation\n",
        "y_testing_prediction = sigmoid(x_testing,*popt)\n",
        "print('MAE : %.2f' % np.mean(np.absolute(y_testing - y_testing_prediction)))\n",
        "print('MSE : %.2f' % np.mean((y_testing_prediction - y_testing)**2))\n",
        "print('R2-score : %.2f' % r2_score(y_testing,y_testing_prediction))"
      ],
      "execution_count": 72,
      "outputs": [
        {
          "output_type": "stream",
          "text": [
            "MAE : 0.03\n",
            "MSE : 0.00\n",
            "R2-score : 0.92\n"
          ],
          "name": "stdout"
        }
      ]
    },
    {
      "cell_type": "code",
      "metadata": {
        "id": "9-EkZ_G_vLCu"
      },
      "source": [
        "\n"
      ],
      "execution_count": 72,
      "outputs": []
    }
  ]
}