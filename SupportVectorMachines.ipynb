{
  "nbformat": 4,
  "nbformat_minor": 0,
  "metadata": {
    "colab": {
      "name": "SupportVectorMachines.ipynb",
      "provenance": [],
      "collapsed_sections": [],
      "authorship_tag": "ABX9TyMSoJQeAIsJkIW59PZ5vcly",
      "include_colab_link": true
    },
    "kernelspec": {
      "name": "python3",
      "display_name": "Python 3"
    },
    "language_info": {
      "name": "python"
    }
  },
  "cells": [
    {
      "cell_type": "markdown",
      "metadata": {
        "id": "view-in-github",
        "colab_type": "text"
      },
      "source": [
        "<a href=\"https://colab.research.google.com/github/AhmedCoolProjects/ML/blob/main/SupportVectorMachines.ipynb\" target=\"_parent\"><img src=\"https://colab.research.google.com/assets/colab-badge.svg\" alt=\"Open In Colab\"/></a>"
      ]
    },
    {
      "cell_type": "markdown",
      "metadata": {
        "id": "34doE0Yf8QrG"
      },
      "source": [
        "Support Vector Machines: supervised algorithm for classification by finding a **separator**.\n",
        "1. Mapping data to **high-dimensional** feature space.\n",
        "2. finding **separator** which is a hyperplan, not necessary linear.\n",
        "> tranforming data: and its dimensional representation. for example instead of x, [x,x^2] => Kernelling(Linear,Polynomial,RBF,Sigmoid).\n",
        "\n",
        "> finging the right hyperplane. hyperplane with the max margin between the different classes. getting the coefs of the separator.\n",
        "\n",
        "* accurate in high-dimensional spaces.\n",
        "* memory efficient.\n",
        "\n",
        "but : the algorithm prone to over-fitting, no probability estimation, not very good for more than 1k rows.\n",
        "\n",
        "* image recognition.\n",
        "* text category assignment.\n",
        "* detecting spam.\n",
        "* sentiment analysis.\n",
        "* Gene expression classification.\n",
        "* Regression, outlier detection and clustering.\n",
        "\n",
        "\n"
      ]
    },
    {
      "cell_type": "markdown",
      "metadata": {
        "id": "1ZeVEJsyYz_T"
      },
      "source": [
        "# Suport Vector Machines (SVMs)\n",
        "## Benign or Malignant Cell."
      ]
    },
    {
      "cell_type": "code",
      "metadata": {
        "id": "nucBeSUcL5o4",
        "colab": {
          "base_uri": "https://localhost:8080/"
        },
        "outputId": "637ad05c-97c0-4822-df3b-977faa5f6563"
      },
      "source": [
        "# downloading the data.\n",
        "!wget -O cell_samples.csv https://cf-courses-data.s3.us.cloud-object-storage.appdomain.cloud/IBMDeveloperSkillsNetwork-ML0101EN-Coursera/labs/Data_files/cell_samples.csv"
      ],
      "execution_count": 49,
      "outputs": [
        {
          "output_type": "stream",
          "text": [
            "--2021-07-10 14:09:55--  https://cf-courses-data.s3.us.cloud-object-storage.appdomain.cloud/IBMDeveloperSkillsNetwork-ML0101EN-Coursera/labs/Data_files/cell_samples.csv\n",
            "Resolving cf-courses-data.s3.us.cloud-object-storage.appdomain.cloud (cf-courses-data.s3.us.cloud-object-storage.appdomain.cloud)... 169.45.118.108\n",
            "Connecting to cf-courses-data.s3.us.cloud-object-storage.appdomain.cloud (cf-courses-data.s3.us.cloud-object-storage.appdomain.cloud)|169.45.118.108|:443... connected.\n",
            "HTTP request sent, awaiting response... 200 OK\n",
            "Length: 19975 (20K) [text/csv]\n",
            "Saving to: ‘cell_samples.csv’\n",
            "\n",
            "cell_samples.csv    100%[===================>]  19.51K  --.-KB/s    in 0.02s   \n",
            "\n",
            "2021-07-10 14:09:55 (1.19 MB/s) - ‘cell_samples.csv’ saved [19975/19975]\n",
            "\n"
          ],
          "name": "stdout"
        }
      ]
    },
    {
      "cell_type": "code",
      "metadata": {
        "id": "GEmJvDeYZj32"
      },
      "source": [
        "import pandas as pd\n",
        "import numpy as np\n",
        "import matplotlib.pyplot as plt\n",
        "import pylab as pl\n",
        "import scipy.optimize as opt\n",
        "from sklearn import preprocessing\n",
        "from sklearn.model_selection import train_test_split\n",
        "%matplotlib inline"
      ],
      "execution_count": 50,
      "outputs": []
    },
    {
      "cell_type": "code",
      "metadata": {
        "colab": {
          "base_uri": "https://localhost:8080/"
        },
        "id": "2yD2i9E5Z73n",
        "outputId": "a4c521c9-f313-401e-c44b-83ed45622ae7"
      },
      "source": [
        "df = pd.read_csv('/content/cell_samples.csv')\n",
        "df.info()"
      ],
      "execution_count": 51,
      "outputs": [
        {
          "output_type": "stream",
          "text": [
            "<class 'pandas.core.frame.DataFrame'>\n",
            "RangeIndex: 699 entries, 0 to 698\n",
            "Data columns (total 11 columns):\n",
            " #   Column       Non-Null Count  Dtype \n",
            "---  ------       --------------  ----- \n",
            " 0   ID           699 non-null    int64 \n",
            " 1   Clump        699 non-null    int64 \n",
            " 2   UnifSize     699 non-null    int64 \n",
            " 3   UnifShape    699 non-null    int64 \n",
            " 4   MargAdh      699 non-null    int64 \n",
            " 5   SingEpiSize  699 non-null    int64 \n",
            " 6   BareNuc      699 non-null    object\n",
            " 7   BlandChrom   699 non-null    int64 \n",
            " 8   NormNucl     699 non-null    int64 \n",
            " 9   Mit          699 non-null    int64 \n",
            " 10  Class        699 non-null    int64 \n",
            "dtypes: int64(10), object(1)\n",
            "memory usage: 60.2+ KB\n"
          ],
          "name": "stdout"
        }
      ]
    },
    {
      "cell_type": "code",
      "metadata": {
        "colab": {
          "base_uri": "https://localhost:8080/",
          "height": 204
        },
        "id": "pjt712zEaN4k",
        "outputId": "a9701d73-a7fc-43d7-d765-73e916d6b8c1"
      },
      "source": [
        "df.head()"
      ],
      "execution_count": 52,
      "outputs": [
        {
          "output_type": "execute_result",
          "data": {
            "text/html": [
              "<div>\n",
              "<style scoped>\n",
              "    .dataframe tbody tr th:only-of-type {\n",
              "        vertical-align: middle;\n",
              "    }\n",
              "\n",
              "    .dataframe tbody tr th {\n",
              "        vertical-align: top;\n",
              "    }\n",
              "\n",
              "    .dataframe thead th {\n",
              "        text-align: right;\n",
              "    }\n",
              "</style>\n",
              "<table border=\"1\" class=\"dataframe\">\n",
              "  <thead>\n",
              "    <tr style=\"text-align: right;\">\n",
              "      <th></th>\n",
              "      <th>ID</th>\n",
              "      <th>Clump</th>\n",
              "      <th>UnifSize</th>\n",
              "      <th>UnifShape</th>\n",
              "      <th>MargAdh</th>\n",
              "      <th>SingEpiSize</th>\n",
              "      <th>BareNuc</th>\n",
              "      <th>BlandChrom</th>\n",
              "      <th>NormNucl</th>\n",
              "      <th>Mit</th>\n",
              "      <th>Class</th>\n",
              "    </tr>\n",
              "  </thead>\n",
              "  <tbody>\n",
              "    <tr>\n",
              "      <th>0</th>\n",
              "      <td>1000025</td>\n",
              "      <td>5</td>\n",
              "      <td>1</td>\n",
              "      <td>1</td>\n",
              "      <td>1</td>\n",
              "      <td>2</td>\n",
              "      <td>1</td>\n",
              "      <td>3</td>\n",
              "      <td>1</td>\n",
              "      <td>1</td>\n",
              "      <td>2</td>\n",
              "    </tr>\n",
              "    <tr>\n",
              "      <th>1</th>\n",
              "      <td>1002945</td>\n",
              "      <td>5</td>\n",
              "      <td>4</td>\n",
              "      <td>4</td>\n",
              "      <td>5</td>\n",
              "      <td>7</td>\n",
              "      <td>10</td>\n",
              "      <td>3</td>\n",
              "      <td>2</td>\n",
              "      <td>1</td>\n",
              "      <td>2</td>\n",
              "    </tr>\n",
              "    <tr>\n",
              "      <th>2</th>\n",
              "      <td>1015425</td>\n",
              "      <td>3</td>\n",
              "      <td>1</td>\n",
              "      <td>1</td>\n",
              "      <td>1</td>\n",
              "      <td>2</td>\n",
              "      <td>2</td>\n",
              "      <td>3</td>\n",
              "      <td>1</td>\n",
              "      <td>1</td>\n",
              "      <td>2</td>\n",
              "    </tr>\n",
              "    <tr>\n",
              "      <th>3</th>\n",
              "      <td>1016277</td>\n",
              "      <td>6</td>\n",
              "      <td>8</td>\n",
              "      <td>8</td>\n",
              "      <td>1</td>\n",
              "      <td>3</td>\n",
              "      <td>4</td>\n",
              "      <td>3</td>\n",
              "      <td>7</td>\n",
              "      <td>1</td>\n",
              "      <td>2</td>\n",
              "    </tr>\n",
              "    <tr>\n",
              "      <th>4</th>\n",
              "      <td>1017023</td>\n",
              "      <td>4</td>\n",
              "      <td>1</td>\n",
              "      <td>1</td>\n",
              "      <td>3</td>\n",
              "      <td>2</td>\n",
              "      <td>1</td>\n",
              "      <td>3</td>\n",
              "      <td>1</td>\n",
              "      <td>1</td>\n",
              "      <td>2</td>\n",
              "    </tr>\n",
              "  </tbody>\n",
              "</table>\n",
              "</div>"
            ],
            "text/plain": [
              "        ID  Clump  UnifSize  UnifShape  ...  BlandChrom  NormNucl Mit  Class\n",
              "0  1000025      5         1          1  ...           3         1   1      2\n",
              "1  1002945      5         4          4  ...           3         2   1      2\n",
              "2  1015425      3         1          1  ...           3         1   1      2\n",
              "3  1016277      6         8          8  ...           3         7   1      2\n",
              "4  1017023      4         1          1  ...           3         1   1      2\n",
              "\n",
              "[5 rows x 11 columns]"
            ]
          },
          "metadata": {
            "tags": []
          },
          "execution_count": 52
        }
      ]
    },
    {
      "cell_type": "code",
      "metadata": {
        "colab": {
          "base_uri": "https://localhost:8080/",
          "height": 279
        },
        "id": "yNW9zYDNaRyb",
        "outputId": "f5e5b881-ea92-4a71-d116-f0b69253139f"
      },
      "source": [
        "# benign = 2, malignant = 4.\n",
        "ax = df[df['Class'] == 4][:50].plot(kind=\"scatter\",x=\"Clump\",y=\"UnifSize\",color=\"DarkBlue\",label=\"Malignant Cells\")\n",
        "df[df['Class'] == 2][:50].plot(kind='scatter',x=\"Clump\",y=\"UnifSize\",color=\"Red\",label=\"Benign Cells\",ax=ax)\n",
        "plt.show()"
      ],
      "execution_count": 53,
      "outputs": [
        {
          "output_type": "display_data",
          "data": {
            "image/png": "[encoded data removed]",
            "text/plain": [
              "<Figure size 432x288 with 1 Axes>"
            ]
          },
          "metadata": {
            "tags": [],
            "needs_background": "light"
          }
        }
      ]
    },
    {
      "cell_type": "code",
      "metadata": {
        "colab": {
          "base_uri": "https://localhost:8080/"
        },
        "id": "6w0c1MjPbnzK",
        "outputId": "57aa2fb2-b94f-4dff-8cc9-9e5686666129"
      },
      "source": [
        "# preprocessing and selection\n",
        "df.dtypes"
      ],
      "execution_count": 54,
      "outputs": [
        {
          "output_type": "execute_result",
          "data": {
            "text/plain": [
              "ID              int64\n",
              "Clump           int64\n",
              "UnifSize        int64\n",
              "UnifShape       int64\n",
              "MargAdh         int64\n",
              "SingEpiSize     int64\n",
              "BareNuc        object\n",
              "BlandChrom      int64\n",
              "NormNucl        int64\n",
              "Mit             int64\n",
              "Class           int64\n",
              "dtype: object"
            ]
          },
          "metadata": {
            "tags": []
          },
          "execution_count": 54
        }
      ]
    },
    {
      "cell_type": "code",
      "metadata": {
        "id": "3cWcjiIpb-An"
      },
      "source": [
        "# droping no numerical values in BareNuc\n",
        "df = df[pd.to_numeric(df['BareNuc'],errors='coerce').notnull()]"
      ],
      "execution_count": 55,
      "outputs": []
    },
    {
      "cell_type": "code",
      "metadata": {
        "colab": {
          "base_uri": "https://localhost:8080/"
        },
        "id": "AVOaZmpUcLsv",
        "outputId": "055f9ff0-7daf-485b-a452-f3d0d572b60b"
      },
      "source": [
        "df.info()"
      ],
      "execution_count": 56,
      "outputs": [
        {
          "output_type": "stream",
          "text": [
            "<class 'pandas.core.frame.DataFrame'>\n",
            "Int64Index: 683 entries, 0 to 698\n",
            "Data columns (total 11 columns):\n",
            " #   Column       Non-Null Count  Dtype \n",
            "---  ------       --------------  ----- \n",
            " 0   ID           683 non-null    int64 \n",
            " 1   Clump        683 non-null    int64 \n",
            " 2   UnifSize     683 non-null    int64 \n",
            " 3   UnifShape    683 non-null    int64 \n",
            " 4   MargAdh      683 non-null    int64 \n",
            " 5   SingEpiSize  683 non-null    int64 \n",
            " 6   BareNuc      683 non-null    object\n",
            " 7   BlandChrom   683 non-null    int64 \n",
            " 8   NormNucl     683 non-null    int64 \n",
            " 9   Mit          683 non-null    int64 \n",
            " 10  Class        683 non-null    int64 \n",
            "dtypes: int64(10), object(1)\n",
            "memory usage: 64.0+ KB\n"
          ],
          "name": "stdout"
        }
      ]
    },
    {
      "cell_type": "code",
      "metadata": {
        "id": "nRgACdgZdjIf"
      },
      "source": [
        "# from object type to int64 type\n",
        "df['BareNuc'] = df['BareNuc'].astype('int64')"
      ],
      "execution_count": 57,
      "outputs": []
    },
    {
      "cell_type": "code",
      "metadata": {
        "colab": {
          "base_uri": "https://localhost:8080/"
        },
        "id": "6zE3VbXCdyxA",
        "outputId": "88d16920-077e-4f9f-cb26-ca792bac23f8"
      },
      "source": [
        "df.dtypes"
      ],
      "execution_count": 58,
      "outputs": [
        {
          "output_type": "execute_result",
          "data": {
            "text/plain": [
              "ID             int64\n",
              "Clump          int64\n",
              "UnifSize       int64\n",
              "UnifShape      int64\n",
              "MargAdh        int64\n",
              "SingEpiSize    int64\n",
              "BareNuc        int64\n",
              "BlandChrom     int64\n",
              "NormNucl       int64\n",
              "Mit            int64\n",
              "Class          int64\n",
              "dtype: object"
            ]
          },
          "metadata": {
            "tags": []
          },
          "execution_count": 58
        }
      ]
    },
    {
      "cell_type": "code",
      "metadata": {
        "colab": {
          "base_uri": "https://localhost:8080/"
        },
        "id": "S3_HTbIed2Jd",
        "outputId": "1cb206aa-4e98-4d87-91fa-3138707bc6ed"
      },
      "source": [
        "# getting our features\n",
        "X = df.drop(['ID','Class'],axis=1).values\n",
        "X[:5]"
      ],
      "execution_count": 59,
      "outputs": [
        {
          "output_type": "execute_result",
          "data": {
            "text/plain": [
              "array([[ 5,  1,  1,  1,  2,  1,  3,  1,  1],\n",
              "       [ 5,  4,  4,  5,  7, 10,  3,  2,  1],\n",
              "       [ 3,  1,  1,  1,  2,  2,  3,  1,  1],\n",
              "       [ 6,  8,  8,  1,  3,  4,  3,  7,  1],\n",
              "       [ 4,  1,  1,  3,  2,  1,  3,  1,  1]])"
            ]
          },
          "metadata": {
            "tags": []
          },
          "execution_count": 59
        }
      ]
    },
    {
      "cell_type": "code",
      "metadata": {
        "colab": {
          "base_uri": "https://localhost:8080/"
        },
        "id": "ULLQAUQgePiO",
        "outputId": "f2087678-f75b-4345-a219-6dd074e04966"
      },
      "source": [
        "# our target\n",
        "Y = df['Class'].values\n",
        "Y[:5]"
      ],
      "execution_count": 60,
      "outputs": [
        {
          "output_type": "execute_result",
          "data": {
            "text/plain": [
              "array([2, 2, 2, 2, 2])"
            ]
          },
          "metadata": {
            "tags": []
          },
          "execution_count": 60
        }
      ]
    },
    {
      "cell_type": "code",
      "metadata": {
        "colab": {
          "base_uri": "https://localhost:8080/"
        },
        "id": "C7iym1JgexNK",
        "outputId": "7e422a29-a8c3-42e8-8e6e-54de211c3184"
      },
      "source": [
        "print(X.shape,Y.shape)"
      ],
      "execution_count": 61,
      "outputs": [
        {
          "output_type": "stream",
          "text": [
            "(683, 9) (683,)\n"
          ],
          "name": "stdout"
        }
      ]
    },
    {
      "cell_type": "code",
      "metadata": {
        "colab": {
          "base_uri": "https://localhost:8080/"
        },
        "id": "_l5rlpmYe4-g",
        "outputId": "da750c66-6433-47de-b9a3-f613c34042da"
      },
      "source": [
        "# train test split\n",
        "x_train,x_test,y_train,y_test = train_test_split(X,Y,test_size=0.2,random_state=4)\n",
        "print(x_train.shape,x_test.shape)\n",
        "print(y_train.shape,y_test.shape)"
      ],
      "execution_count": 62,
      "outputs": [
        {
          "output_type": "stream",
          "text": [
            "(546, 9) (137, 9)\n",
            "(546,) (137,)\n"
          ],
          "name": "stdout"
        }
      ]
    },
    {
      "cell_type": "code",
      "metadata": {
        "colab": {
          "base_uri": "https://localhost:8080/"
        },
        "id": "Jxu7UzjyfOYO",
        "outputId": "27a79735-9b8c-475e-9e63-c7abf0b4a1aa"
      },
      "source": [
        "# kernel functions => linear,Polynomial,Radial basis function (RBF), Sigmoid...\n",
        "from sklearn import svm\n",
        "svm_ = svm.SVC(kernel=\"rbf\")\n",
        "svm_.fit(x_train,y_train)"
      ],
      "execution_count": 63,
      "outputs": [
        {
          "output_type": "execute_result",
          "data": {
            "text/plain": [
              "SVC(C=1.0, break_ties=False, cache_size=200, class_weight=None, coef0=0.0,\n",
              "    decision_function_shape='ovr', degree=3, gamma='scale', kernel='rbf',\n",
              "    max_iter=-1, probability=False, random_state=None, shrinking=True,\n",
              "    tol=0.001, verbose=False)"
            ]
          },
          "metadata": {
            "tags": []
          },
          "execution_count": 63
        }
      ]
    },
    {
      "cell_type": "code",
      "metadata": {
        "colab": {
          "base_uri": "https://localhost:8080/"
        },
        "id": "u0XdPj8JgAsP",
        "outputId": "5f7e2551-d8a5-4af2-9d18-e8c235b9d4e5"
      },
      "source": [
        "# prediction\n",
        "y_pre = svm_.predict(x_test)\n",
        "y_pre[:5]"
      ],
      "execution_count": 64,
      "outputs": [
        {
          "output_type": "execute_result",
          "data": {
            "text/plain": [
              "array([2, 4, 2, 4, 2])"
            ]
          },
          "metadata": {
            "tags": []
          },
          "execution_count": 64
        }
      ]
    },
    {
      "cell_type": "code",
      "metadata": {
        "colab": {
          "base_uri": "https://localhost:8080/"
        },
        "id": "SMce2-1pgLNc",
        "outputId": "f9a878d5-fe14-46b3-a488-cbfcdd6beafd"
      },
      "source": [
        "Y[:5]"
      ],
      "execution_count": 65,
      "outputs": [
        {
          "output_type": "execute_result",
          "data": {
            "text/plain": [
              "array([2, 2, 2, 2, 2])"
            ]
          },
          "metadata": {
            "tags": []
          },
          "execution_count": 65
        }
      ]
    },
    {
      "cell_type": "code",
      "metadata": {
        "id": "zuxOtDTrgSxI"
      },
      "source": [
        "# evaluation \n",
        "from sklearn.metrics import classification_report,confusion_matrix\n",
        "import itertools"
      ],
      "execution_count": 66,
      "outputs": []
    },
    {
      "cell_type": "code",
      "metadata": {
        "id": "eknFOObDqcsL"
      },
      "source": [
        "def plot_confusion_matrix(cm,\n",
        "                          classes,\n",
        "                          normalize=False,\n",
        "                          title=\"Confusion Matrix\",\n",
        "                          cmap=plt.cm.Blues):\n",
        "  if normalize:\n",
        "    cm = cm.astype('float') / cm.sum(axis=1)[:,np.newaxis]\n",
        "    print('Normalized')\n",
        "  else:\n",
        "    print('Not Normalized')\n",
        "  print(cm)\n",
        "\n",
        "  plt.imshow(cm,\n",
        "             interpolation='nearest',\n",
        "             cmap=cmap)\n",
        "  plt.title(title)\n",
        "  plt.colorbar()\n",
        "\n",
        "  tick_marks = np.arange(len(classes))\n",
        "  plt.xticks(tick_marks,classes,rotation=45)\n",
        "  plt.yticks(tick_marks,classes)\n",
        "\n",
        "  fmt = '.2f' if normalize else 'd'\n",
        "  thresh = cm.max() / 2\n",
        "  for i,j in itertools.product(range(cm.shape[0]),\n",
        "                               range(cm.shape[1])):\n",
        "    plt.text(j,i,format(cm[i,j],fmt),\n",
        "             horizontalalignment='center',\n",
        "             color='white' if cm[i,j] > thresh else 'black')\n",
        "  plt.tight_layout()\n",
        "  plt.ylabel('True label')\n",
        "  plt.xlabel('Predicted label')\n",
        "  plt.show()"
      ],
      "execution_count": 67,
      "outputs": []
    },
    {
      "cell_type": "code",
      "metadata": {
        "colab": {
          "base_uri": "https://localhost:8080/"
        },
        "id": "pcaexElrsT8S",
        "outputId": "28cc48fb-424a-4365-e30f-a9f59a4970a9"
      },
      "source": [
        "# confusion matrix\n",
        "cnf_matrix = confusion_matrix(y_test,y_pre,labels=[2,4])\n",
        "np.set_printoptions(precision=2)\n",
        "print(classification_report(y_test,y_pre))"
      ],
      "execution_count": 68,
      "outputs": [
        {
          "output_type": "stream",
          "text": [
            "              precision    recall  f1-score   support\n",
            "\n",
            "           2       1.00      0.94      0.97        90\n",
            "           4       0.90      1.00      0.95        47\n",
            "\n",
            "    accuracy                           0.96       137\n",
            "   macro avg       0.95      0.97      0.96       137\n",
            "weighted avg       0.97      0.96      0.96       137\n",
            "\n"
          ],
          "name": "stdout"
        }
      ]
    },
    {
      "cell_type": "code",
      "metadata": {
        "colab": {
          "base_uri": "https://localhost:8080/",
          "height": 362
        },
        "id": "nl6qDtcXst_m",
        "outputId": "8733c41b-29b4-4989-816b-6c1911e05935"
      },
      "source": [
        "# plot the confusion matrix\n",
        "plt.figure()\n",
        "plot_confusion_matrix(cnf_matrix,\n",
        "                      classes=['Benign(2)','Malignant(4)'])"
      ],
      "execution_count": 69,
      "outputs": [
        {
          "output_type": "stream",
          "text": [
            "Not Normalized\n",
            "[[85  5]\n",
            " [ 0 47]]\n"
          ],
          "name": "stdout"
        },
        {
          "output_type": "display_data",
          "data": {
            "image/png": "[encoded data removed]",
            "text/plain": [
              "<Figure size 432x288 with 2 Axes>"
            ]
          },
          "metadata": {
            "tags": [],
            "needs_background": "light"
          }
        }
      ]
    },
    {
      "cell_type": "code",
      "metadata": {
        "colab": {
          "base_uri": "https://localhost:8080/"
        },
        "id": "A1ceXX_qtKpe",
        "outputId": "66b502c0-97fe-4d64-9157-bf5c7bad129c"
      },
      "source": [
        "# f1_score\n",
        "from sklearn.metrics import f1_score\n",
        "f1_score(y_test,y_pre,average='weighted')"
      ],
      "execution_count": 70,
      "outputs": [
        {
          "output_type": "execute_result",
          "data": {
            "text/plain": [
              "0.9639038982104676"
            ]
          },
          "metadata": {
            "tags": []
          },
          "execution_count": 70
        }
      ]
    },
    {
      "cell_type": "code",
      "metadata": {
        "colab": {
          "base_uri": "https://localhost:8080/"
        },
        "id": "WlZohAe3txPE",
        "outputId": "050f4fef-8261-4f00-f460-73ba972307ea"
      },
      "source": [
        "# jaccard\n",
        "from sklearn.metrics import jaccard_similarity_score\n",
        "jaccard_similarity_score(y_test,y_pre)"
      ],
      "execution_count": 71,
      "outputs": [
        {
          "output_type": "stream",
          "text": [
            "/usr/local/lib/python3.7/dist-packages/sklearn/metrics/_classification.py:664: FutureWarning: jaccard_similarity_score has been deprecated and replaced with jaccard_score. It will be removed in version 0.23. This implementation has surprising behavior for binary and multiclass classification tasks.\n",
            "  FutureWarning)\n"
          ],
          "name": "stderr"
        },
        {
          "output_type": "execute_result",
          "data": {
            "text/plain": [
              "0.9635036496350365"
            ]
          },
          "metadata": {
            "tags": []
          },
          "execution_count": 71
        }
      ]
    },
    {
      "cell_type": "code",
      "metadata": {
        "colab": {
          "base_uri": "https://localhost:8080/"
        },
        "id": "2FWuiS4pt9R5",
        "outputId": "fce0dd09-3fc0-4dd1-947c-b5bf9351bf56"
      },
      "source": [
        "# lets try the linear kernel\n",
        "svm_linear = svm.SVC(kernel='linear')\n",
        "svm_linear.fit(x_train,y_train)"
      ],
      "execution_count": 72,
      "outputs": [
        {
          "output_type": "execute_result",
          "data": {
            "text/plain": [
              "SVC(C=1.0, break_ties=False, cache_size=200, class_weight=None, coef0=0.0,\n",
              "    decision_function_shape='ovr', degree=3, gamma='scale', kernel='linear',\n",
              "    max_iter=-1, probability=False, random_state=None, shrinking=True,\n",
              "    tol=0.001, verbose=False)"
            ]
          },
          "metadata": {
            "tags": []
          },
          "execution_count": 72
        }
      ]
    },
    {
      "cell_type": "code",
      "metadata": {
        "colab": {
          "base_uri": "https://localhost:8080/",
          "height": 362
        },
        "id": "aeLFyC2buhiw",
        "outputId": "6d2202ae-c7c8-4d47-93b3-5eead4892673"
      },
      "source": [
        "y_pre_linear = svm_linear.predict(x_test)\n",
        "# evaluation\n",
        "cnf_matrix_linear = confusion_matrix(y_test,y_pre_linear,labels=[2,4])\n",
        "plt.figure()\n",
        "plot_confusion_matrix(cnf_matrix_linear,\n",
        "                      classes=['Bengin(2)','Malignant(4)'])"
      ],
      "execution_count": 73,
      "outputs": [
        {
          "output_type": "stream",
          "text": [
            "Not Normalized\n",
            "[[85  5]\n",
            " [ 0 47]]\n"
          ],
          "name": "stdout"
        },
        {
          "output_type": "display_data",
          "data": {
            "image/png": "[encoded data removed]",
            "text/plain": [
              "<Figure size 432x288 with 2 Axes>"
            ]
          },
          "metadata": {
            "tags": [],
            "needs_background": "light"
          }
        }
      ]
    },
    {
      "cell_type": "code",
      "metadata": {
        "colab": {
          "base_uri": "https://localhost:8080/"
        },
        "id": "8B1MU32CvRxF",
        "outputId": "853527d7-5fee-4ee4-a77e-3cc2d62f3e41"
      },
      "source": [
        "print('avg f1-score: %.4f' % f1_score(y_test,y_pre_linear,average='weighted'))\n",
        "print('Jaccard score: %.4f' % jaccard_similarity_score(y_test,y_pre_linear))"
      ],
      "execution_count": 74,
      "outputs": [
        {
          "output_type": "stream",
          "text": [
            "avg f1-score: 0.9639\n",
            "Jaccard score: 0.9635\n"
          ],
          "name": "stdout"
        },
        {
          "output_type": "stream",
          "text": [
            "/usr/local/lib/python3.7/dist-packages/sklearn/metrics/_classification.py:664: FutureWarning: jaccard_similarity_score has been deprecated and replaced with jaccard_score. It will be removed in version 0.23. This implementation has surprising behavior for binary and multiclass classification tasks.\n",
            "  FutureWarning)\n"
          ],
          "name": "stderr"
        }
      ]
    },
    {
      "cell_type": "code",
      "metadata": {
        "id": "58pEREVjwE0b"
      },
      "source": [
        ""
      ],
      "execution_count": 74,
      "outputs": []
    }
  ]
}