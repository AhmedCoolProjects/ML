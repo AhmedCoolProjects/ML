{
  "nbformat": 4,
  "nbformat_minor": 0,
  "metadata": {
    "colab": {
      "provenance": [],
      "collapsed_sections": [
        "_TKYD33g0Dsl"
      ],
      "authorship_tag": "ABX9TyOv4ypwBYXBzLUhVN1yE7t3",
      "include_colab_link": true
    },
    "kernelspec": {
      "name": "python3",
      "display_name": "Python 3"
    },
    "language_info": {
      "name": "python"
    }
  },
  "cells": [
    {
      "cell_type": "markdown",
      "metadata": {
        "id": "view-in-github",
        "colab_type": "text"
      },
      "source": [
        "<a href=\"https://colab.research.google.com/github/AhmedCoolProjects/ML/blob/main/Data_V_Revision.ipynb\" target=\"_parent\"><img src=\"https://colab.research.google.com/assets/colab-badge.svg\" alt=\"Open In Colab\"/></a>"
      ]
    },
    {
      "cell_type": "markdown",
      "source": [
        "## Visualization"
      ],
      "metadata": {
        "id": "_TKYD33g0Dsl"
      }
    },
    {
      "cell_type": "code",
      "execution_count": null,
      "metadata": {
        "id": "Cj6c4tuYjWr_"
      },
      "outputs": [],
      "source": [
        "'''\n",
        "relationship -> scatter / scatter bubble size\n",
        "comparaison -> bar / line / circular area\n",
        "distribution -> bar hist / line hist / scatter\n",
        "composition -> pie / tree map / stacked area / stacked bar\n",
        "\n",
        "analyse univariée -> quantitatives _moy, ecart_ (box-plots / hist) , qualitatives _frq_ (bar / pie)\n",
        "analyse bivariée -> quantitatives (scatter) , qualitative + quantitative (box plots parallèles)\n",
        "analyse multivariée -> scatter par modalité\n",
        "'''"
      ]
    },
    {
      "cell_type": "markdown",
      "source": [
        "## Libraries"
      ],
      "metadata": {
        "id": "jEls6blC0GDi"
      }
    },
    {
      "cell_type": "code",
      "source": [
        "'''\n",
        "matplotlib -> manque d'interactivité, (line, bar, barh, hist, kde, density, box, pie, scatter, hexbin, area)\n",
        "seaborn -> scatterplot / relplot / stripplot / swarmplot / catplot\n",
        "        -> distplot / boxplot / violinplot\n",
        "        -> facetgrid / factorplot (facetplot pour les vars catégorielles) / jointplot / pairplot / pairgrid\n",
        "        -> whitegrid / darkgrid (default) / dark / white / ticks \n",
        "bokeh -> interactive pour le web\n",
        "ggplot -> Grammer of Graphics, superposition\n",
        "plotly -> interactive + diagrammes spéciaux (contour) / online + offline / +cufflinks pour visualization interactive\n",
        "geopplotlib -> géographique\n",
        "pygal -> interactive + web + svg \n",
        "pandas-profiling -> interactive + analyse exploratoire des données + dashboard pour le web\n",
        "'''"
      ],
      "metadata": {
        "id": "kGOfjRAB0HdC"
      },
      "execution_count": null,
      "outputs": []
    },
    {
      "cell_type": "markdown",
      "source": [
        "## Carte Conceptuelle"
      ],
      "metadata": {
        "id": "UvamDFk-7w9S"
      }
    },
    {
      "cell_type": "code",
      "source": [
        "'''\n",
        "- gestion de projet / trouver des idées / apprentissage collectif\n",
        "- communiquer\n",
        "- se préparer / apprentissage individuel\n",
        "- développer la créativité / organiser l'apprentissage / organiser ses connaissances\n",
        "- chaine / etoile / arbre hiérarchique / réseau\n",
        "- sujet -> concepts -> valider -> organiser -> propositions -> prototype -> réviser\n",
        "'''"
      ],
      "metadata": {
        "id": "-R2TPB057z-4"
      },
      "execution_count": null,
      "outputs": []
    }
  ]
}